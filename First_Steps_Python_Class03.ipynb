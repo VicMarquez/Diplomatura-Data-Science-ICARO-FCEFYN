{
  "nbformat": 4,
  "nbformat_minor": 0,
  "metadata": {
    "colab": {
      "provenance": []
    },
    "kernelspec": {
      "name": "python3",
      "display_name": "Python 3"
    },
    "language_info": {
      "name": "python"
    }
  },
  "cells": [
    {
      "cell_type": "markdown",
      "metadata": {
        "id": "uH569KiYLQhO"
      },
      "source": [
        "# ¡Empecemos a programar!\n",
        "\n",
        "Recomendación: Además de ejecutar el notebook, modifiquen, prueben, rompan... ¡Nada es irreversible!\n",
        "\n",
        "# Celdas de código\n",
        "\n",
        "En las celdas de código, se puede ejecutar código python\n",
        "\n",
        "\n",
        "\n",
        "\n"
      ]
    },
    {
      "cell_type": "code",
      "metadata": {
        "id": "kIQzBCq2VwHS"
      },
      "source": [
        "# Comentarios\n",
        "# En python, todas las lineas que empiecen con # son comentarios.\n",
        "# Los comentarios no ejecutan ninguna instrucción, simplemente sirven para dejar anotaciones en nuestro código"
      ],
      "execution_count": null,
      "outputs": []
    },
    {
      "cell_type": "code",
      "metadata": {
        "id": "P2ASpNiOLS97"
      },
      "source": [
        "print('Hola mundo!')"
      ],
      "execution_count": null,
      "outputs": []
    },
    {
      "cell_type": "markdown",
      "metadata": {
        "id": "2lNHHV3kW8pH"
      },
      "source": [
        "## Variables y tipos de datos\n",
        "\n",
        "Una variable es donde se almacenan y recuperan los datos que utilizamos en nuestros programas.\n",
        "\n",
        "Las variables deben ser de un **tipo de datos**. En python tenemos tipos de datos primitivos como:\n",
        "- str: string (variables que almacenan caracteres)\n",
        "- int: intiger (variables que almacenan números enteros)\n",
        "- float (variables que almacenan números con decimales)\n",
        "- bool: booleanos (variables que pueden tomar como valor TRUE o FALSE)\n",
        "\n",
        "Veamos algunos ejemplos!\n",
        "\n",
        "Definimos una variable de cada tipo:\n"
      ]
    },
    {
      "cell_type": "code",
      "source": [
        "a = \"Hola Mundo\"\n",
        "print(a)"
      ],
      "metadata": {
        "id": "XuOQoboYW75p"
      },
      "execution_count": null,
      "outputs": []
    },
    {
      "cell_type": "code",
      "source": [
        "a = 1\n",
        "print(a)"
      ],
      "metadata": {
        "id": "BYDoDv9HXGjo"
      },
      "execution_count": null,
      "outputs": []
    },
    {
      "cell_type": "code",
      "source": [
        "a = 1.\n",
        "print(a)"
      ],
      "metadata": {
        "id": "-e-PexCBXfq_"
      },
      "execution_count": null,
      "outputs": []
    },
    {
      "cell_type": "code",
      "source": [
        "a = False\n",
        "print(a)"
      ],
      "metadata": {
        "id": "c-ETzy-cXvjN"
      },
      "execution_count": null,
      "outputs": []
    },
    {
      "cell_type": "code",
      "source": [
        "print(a)"
      ],
      "metadata": {
        "id": "M5uMah6PXPwo"
      },
      "execution_count": null,
      "outputs": []
    },
    {
      "cell_type": "code",
      "metadata": {
        "id": "3kKXKor6W8Uf"
      },
      "source": [
        "# STRING\n",
        "variable_string = 'Esto es un string'\n",
        "\n",
        "# INT\n",
        "variable_int = 1\n",
        "\n",
        "# FLOAT\n",
        "variable_float = 1.1\n",
        "\n",
        "# BOOL\n",
        "variable_bool = True"
      ],
      "execution_count": null,
      "outputs": []
    },
    {
      "cell_type": "markdown",
      "metadata": {
        "id": "vJWpPyTVZMJ6"
      },
      "source": [
        "En python, podemos usar la función type() para saber el tipo de una variable\n"
      ]
    },
    {
      "cell_type": "code",
      "metadata": {
        "id": "yUn_izybZLQD"
      },
      "source": [
        "type(variable_string)"
      ],
      "execution_count": null,
      "outputs": []
    },
    {
      "cell_type": "code",
      "metadata": {
        "id": "VKm78kyXZLoA"
      },
      "source": [
        "type(variable_int)"
      ],
      "execution_count": null,
      "outputs": []
    },
    {
      "cell_type": "code",
      "metadata": {
        "id": "nLxwkXyVZCqZ"
      },
      "source": [
        "type(variable_float)\n"
      ],
      "execution_count": null,
      "outputs": []
    },
    {
      "cell_type": "code",
      "metadata": {
        "id": "YPMKggRofjb8"
      },
      "source": [
        "type(variable_bool)"
      ],
      "execution_count": null,
      "outputs": []
    },
    {
      "cell_type": "markdown",
      "metadata": {
        "id": "HwvryzUOZxCt"
      },
      "source": [
        "De que tipo es esta variable?"
      ]
    },
    {
      "cell_type": "code",
      "metadata": {
        "id": "Xpjs1cdvZuZt"
      },
      "source": [
        "mi_variable = '1.3'"
      ],
      "execution_count": null,
      "outputs": []
    },
    {
      "cell_type": "code",
      "metadata": {
        "id": "qjh0-z_yZ1gL"
      },
      "source": [
        "# COMPLETAR (imprimir el tipo de la variable mi_variable y ejecutar la celda)\n",
        "type(mi_variable)"
      ],
      "execution_count": null,
      "outputs": []
    },
    {
      "cell_type": "markdown",
      "metadata": {
        "id": "p_LARicXaPnc"
      },
      "source": [
        "Las variables, como su nombre lo indica, pueden variar su valor a lo largo de la ejecución del programa. Veamos ejemplos.."
      ]
    },
    {
      "cell_type": "code",
      "metadata": {
        "id": "7JFUuxj-aX81"
      },
      "source": [
        "a = 1\n",
        "print(f\"Valor de a: {a}\") # Cuando ponemos f adelante de un string, podemos imprimir el valor de una variable que pongamos entre {}\n",
        "a = 2\n",
        "print(f\"Nuevo valor de a: {a}\")\n",
        "a = a + 1\n",
        "print(f\"Le sumamos 1 a la variable y el resultado es: {a}\")"
      ],
      "execution_count": null,
      "outputs": []
    },
    {
      "cell_type": "code",
      "source": [
        "a = 1"
      ],
      "metadata": {
        "id": "jQaUFTpfY4mJ"
      },
      "execution_count": null,
      "outputs": []
    },
    {
      "cell_type": "code",
      "source": [
        "a = a * 2\n",
        "print(a)"
      ],
      "metadata": {
        "id": "JYnvK91JY7ZA"
      },
      "execution_count": null,
      "outputs": []
    },
    {
      "cell_type": "markdown",
      "metadata": {
        "id": "YFcWMAw6gGnj"
      },
      "source": [
        "### None\n",
        "\n",
        "En python, el valor None representa una variable vacia"
      ]
    },
    {
      "cell_type": "code",
      "metadata": {
        "id": "NhtGGQGzgNL6"
      },
      "source": [
        "vacia = None\n",
        "print(vacia)"
      ],
      "execution_count": null,
      "outputs": []
    },
    {
      "cell_type": "code",
      "source": [
        "print(b)"
      ],
      "metadata": {
        "id": "p8Jv3Yb5ZhsP"
      },
      "execution_count": null,
      "outputs": []
    },
    {
      "cell_type": "markdown",
      "metadata": {
        "id": "e9pArHTTsXWV"
      },
      "source": [
        "### Cambiar tipo de variable\n",
        "\n",
        "Los tipos de variables se pueden cambiar.\n",
        "\n",
        "Por ejemplo:"
      ]
    },
    {
      "cell_type": "code",
      "metadata": {
        "id": "CvNVWzL3slwl"
      },
      "source": [
        "numero = 5\n",
        "print(type(numero))"
      ],
      "execution_count": null,
      "outputs": []
    },
    {
      "cell_type": "code",
      "source": [
        "a = str(True)\n",
        "type(a)\n",
        "a"
      ],
      "metadata": {
        "id": "-kAt7OxyaGTI"
      },
      "execution_count": null,
      "outputs": []
    },
    {
      "cell_type": "markdown",
      "metadata": {
        "id": "DUbKQY69so9R"
      },
      "source": [
        "Transformemos la variable numero a str:"
      ]
    },
    {
      "cell_type": "code",
      "metadata": {
        "id": "cCWbQXE4sl1j"
      },
      "source": [
        "numero = str(numero)\n",
        "print(type(numero))"
      ],
      "execution_count": null,
      "outputs": []
    },
    {
      "cell_type": "markdown",
      "metadata": {
        "id": "xd46fOT6s0db"
      },
      "source": [
        "De todas formas, no se puede en todos los casos. Por ejemplo, no podemos transformar en int un str que tiene como valor una palabra:"
      ]
    },
    {
      "cell_type": "code",
      "source": [
        "a = 5.3\n",
        "b = int(a)\n",
        "b"
      ],
      "metadata": {
        "id": "vMqHDwpMaobA"
      },
      "execution_count": null,
      "outputs": []
    },
    {
      "cell_type": "code",
      "source": [
        "t = 0\n",
        "b = float(a)\n",
        "b"
      ],
      "metadata": {
        "id": "giU9DWDVa9-d"
      },
      "execution_count": null,
      "outputs": []
    },
    {
      "cell_type": "code",
      "source": [
        "a = 'False'\n",
        "b = bool(a)\n",
        "b"
      ],
      "metadata": {
        "id": "d1eCev1xbkWu"
      },
      "execution_count": null,
      "outputs": []
    },
    {
      "cell_type": "code",
      "metadata": {
        "id": "2HMA2QtFtDCz"
      },
      "source": [
        "palabra = 'Hola'\n",
        "float(palabra)"
      ],
      "execution_count": null,
      "outputs": []
    },
    {
      "cell_type": "markdown",
      "metadata": {
        "id": "q4mS2mYqZffD"
      },
      "source": [
        "## Operaciones\n",
        "\n",
        "En python, como en todos los lenguajes de programación, podemos realizar operaciones matemáticas. Desde sumas y restas hasta operaciones más complejas.\n",
        "\n"
      ]
    },
    {
      "cell_type": "code",
      "metadata": {
        "id": "3sMSByYdZs6_"
      },
      "source": [
        "# SUMA\n",
        "print(1 + 1)"
      ],
      "execution_count": null,
      "outputs": []
    },
    {
      "cell_type": "code",
      "source": [
        "a = 1.0\n",
        "b = 2\n",
        "c = a + b\n",
        "print(c)"
      ],
      "metadata": {
        "id": "yc_WETymd8fQ"
      },
      "execution_count": null,
      "outputs": []
    },
    {
      "cell_type": "code",
      "metadata": {
        "id": "vbRBL-2Wb6QY"
      },
      "source": [
        "# RESTA\n",
        "print(3 - 1)"
      ],
      "execution_count": null,
      "outputs": []
    },
    {
      "cell_type": "code",
      "metadata": {
        "id": "FY25NSyab6UD"
      },
      "source": [
        "# MULTIPLICACIÓN\n",
        "print(3 * 3.0)"
      ],
      "execution_count": null,
      "outputs": []
    },
    {
      "cell_type": "code",
      "metadata": {
        "id": "y-xnJnkHb6a2"
      },
      "source": [
        "# DIVISIÓN\n",
        "print(10. / 3.)"
      ],
      "execution_count": null,
      "outputs": []
    },
    {
      "cell_type": "code",
      "metadata": {
        "id": "3IExz556cECy"
      },
      "source": [
        "# RESTO DE UNA DIVISIÓN\n",
        "print(10 % 3)"
      ],
      "execution_count": null,
      "outputs": []
    },
    {
      "cell_type": "code",
      "metadata": {
        "id": "B1TMrU5gnL-L"
      },
      "source": [
        "# ELEVAR UN NÚMERO AL CUADRADO\n",
        "print(10 ** 1 / 2 )"
      ],
      "execution_count": null,
      "outputs": []
    },
    {
      "cell_type": "code",
      "source": [
        "print( 10.0 * (1.0 + 2.0)  )"
      ],
      "metadata": {
        "id": "pI2kGouZezfT"
      },
      "execution_count": null,
      "outputs": []
    },
    {
      "cell_type": "markdown",
      "metadata": {
        "id": "bOro95tEaKrH"
      },
      "source": [
        "Tambien podemos realizar operaciones entre variables, o asignar el resultado de una operacion a una variable"
      ]
    },
    {
      "cell_type": "code",
      "metadata": {
        "id": "hU1-BrwacLTc"
      },
      "source": [
        "a = 1\n",
        "b = 2\n",
        "c = a + b\n",
        "print(c)"
      ],
      "execution_count": null,
      "outputs": []
    },
    {
      "cell_type": "markdown",
      "metadata": {
        "id": "FhgHfsUzkWD_"
      },
      "source": [
        "Los string, también nos permiten aplicar operaciones.\n",
        "\n",
        "Si sumamos 2 strings, estos 2 se unen:"
      ]
    },
    {
      "cell_type": "code",
      "metadata": {
        "id": "l1SlmbrjkVTp"
      },
      "source": [
        "suma_strings = \"Primer string \" + \"segundo string\"\n",
        "print(suma_strings)"
      ],
      "execution_count": null,
      "outputs": []
    },
    {
      "cell_type": "markdown",
      "metadata": {
        "id": "I5LDPCH7klzm"
      },
      "source": [
        "Si multiplicamos un string por un entero n, el string se nplica:"
      ]
    },
    {
      "cell_type": "code",
      "metadata": {
        "id": "YYt17Q09kk6e"
      },
      "source": [
        "entero = 5\n",
        "string = 'A'\n",
        "print(entero + string)     #  a * 3 = a + a + a"
      ],
      "execution_count": null,
      "outputs": []
    },
    {
      "cell_type": "markdown",
      "metadata": {
        "id": "pOjzU4c5k5VD"
      },
      "source": [
        "PREGUNTA: ¿Que tipo de dato se genera si multiplicamos un STRING y un ENTERO?"
      ]
    },
    {
      "cell_type": "code",
      "metadata": {
        "id": "Roakg7-Jk4tK"
      },
      "source": [
        "# COMPLETAR\n",
        "entero = 3\n",
        "string = 'A'\n",
        "print(string * entero)     #  a * int := a + a + a + a + ....\n",
        "                           #  int * a := ...."
      ],
      "execution_count": null,
      "outputs": []
    },
    {
      "cell_type": "markdown",
      "metadata": {
        "id": "wRcChHVQCiXK"
      },
      "source": [
        "Funciones sobre strings:"
      ]
    },
    {
      "cell_type": "code",
      "metadata": {
        "id": "4jzVVTboCkXC"
      },
      "source": [
        "string_ejemplo = \"Hola como como estás?\""
      ],
      "execution_count": null,
      "outputs": []
    },
    {
      "cell_type": "markdown",
      "metadata": {
        "id": "k5ZCnnV4XxSz"
      },
      "source": [
        "Función IN"
      ]
    },
    {
      "cell_type": "code",
      "source": [
        "print(\"Hola \"+\"como\")"
      ],
      "metadata": {
        "id": "UEJpgMzziUY9"
      },
      "execution_count": null,
      "outputs": []
    },
    {
      "cell_type": "code",
      "metadata": {
        "id": "CNOcxltyCqaN"
      },
      "source": [
        "\"hola\" in string_ejemplo"
      ],
      "execution_count": null,
      "outputs": []
    },
    {
      "cell_type": "markdown",
      "metadata": {
        "id": "EDZqK-rxXzYI"
      },
      "source": [
        "Función replace"
      ]
    },
    {
      "cell_type": "code",
      "metadata": {
        "id": "qJVk8rSTC-WN"
      },
      "source": [
        "string_ejemplo.replace(\"á\", \"a\")"
      ],
      "execution_count": null,
      "outputs": []
    },
    {
      "cell_type": "markdown",
      "metadata": {
        "id": "rEf4dce9X1Uu"
      },
      "source": [
        "**EJERCICIO** : Buscar las funciones de STRINGS en python:\n",
        "\n",
        "- capitalize()\n",
        "- count()\n",
        "- endswith()\n",
        "- upper() y lower()\n",
        "\n",
        "Y escribir un ejemplo de aplicación de cada una"
      ]
    },
    {
      "cell_type": "code",
      "source": [
        "string_ejemplo = \"¿Hola Mundo?\""
      ],
      "metadata": {
        "id": "kYhcg2zIkLFc"
      },
      "execution_count": null,
      "outputs": []
    },
    {
      "cell_type": "code",
      "metadata": {
        "id": "i659rATqY4Os"
      },
      "source": [
        "#capitalize()                   Devuelve el primer caracter en mayúscula\n",
        "string_ejemplo.capitalize()"
      ],
      "execution_count": null,
      "outputs": []
    },
    {
      "cell_type": "code",
      "source": [
        "string_ejemplo.title()"
      ],
      "metadata": {
        "id": "rVo2TfusmyT8"
      },
      "execution_count": null,
      "outputs": []
    },
    {
      "cell_type": "code",
      "metadata": {
        "id": "WUWBrHIMY4TI"
      },
      "source": [
        "#count()\n",
        "print(string_ejemplo.title())\n",
        "print(a)\n",
        "print(b)\n",
        "print(x)\n",
        "print(y)\n",
        "print(string_ejemplo.count())\n"
      ],
      "execution_count": null,
      "outputs": []
    },
    {
      "cell_type": "code",
      "metadata": {
        "id": "XMzQnYoAY4Yc"
      },
      "source": [
        "#endswith()\n",
        "string_ejemplo.startswith('¿hola')"
      ],
      "execution_count": null,
      "outputs": []
    },
    {
      "cell_type": "code",
      "metadata": {
        "id": "7Rxh_2rPY4db"
      },
      "source": [
        "#upper()\n",
        "string_ejemplo.upper()"
      ],
      "execution_count": null,
      "outputs": []
    },
    {
      "cell_type": "code",
      "metadata": {
        "id": "8w5xPy5CY4nA"
      },
      "source": [
        "#lower()\n",
        "string_ejemplo.lower()"
      ],
      "execution_count": null,
      "outputs": []
    },
    {
      "cell_type": "markdown",
      "metadata": {
        "id": "KagUSC1qcYHC"
      },
      "source": [
        "F Strings: Nos permiten poner una variable dentro de un string. Se arman de la siguiente manera:"
      ]
    },
    {
      "cell_type": "code",
      "metadata": {
        "id": "WdGl1pbwcXox"
      },
      "source": [
        "x = 11\n",
        "y = x ** x + 100*x\n",
        "qy = None"
      ],
      "execution_count": null,
      "outputs": []
    },
    {
      "cell_type": "code",
      "source": [
        "print(f'La variable y es igual a {x ** x + 100*x}')"
      ],
      "metadata": {
        "id": "c5EJz3VuoG0C"
      },
      "execution_count": null,
      "outputs": []
    },
    {
      "cell_type": "markdown",
      "metadata": {
        "id": "KJ8LR_Ync8lL"
      },
      "source": [
        "## Mensajes de error\n",
        "\n",
        "A la hora de programar, vamos a ir obteniendo muchos mensajes de error. Es muy importante aprender a entender esos errores e identificar en que parte de nuestro código están. Muchas veces vamos a pasarnos tiempo buscando un error en google!"
      ]
    },
    {
      "cell_type": "code",
      "metadata": {
        "id": "xEZg_vSLdNn5"
      },
      "source": [
        "a = error"
      ],
      "execution_count": null,
      "outputs": []
    },
    {
      "cell_type": "markdown",
      "metadata": {
        "id": "RDwf3IiVdU2E"
      },
      "source": [
        "Al no poner la palabra \"error\" entre comillas, python interpreta como que es una variable, y como nunca creamos una variable que se llame \"error\", falla."
      ]
    },
    {
      "cell_type": "markdown",
      "metadata": {
        "id": "A0LY18eydnmr"
      },
      "source": [
        "## Listas, tuplas y diccionarios\n",
        "\n",
        "3 tipos de datos más complejos que los que vimos antes, pero que vamos a utilizar mucho, son:\n",
        "- Listas: Una lista es una **estructura de datos** que contiene una colección o secuencia de datos. Los datos o elementos de una lista deben ir **separados con una coma** y todo el conjunto entre corchetes. Se dice que una lista es una estructura **mutable** porque además de permitir el acceso a los elementos, pueden suprimirse o agregarse nuevos.\n",
        "- Tuplas: Una tupla permite tener agrupados un conjunto **inmutable** de elementos, es decir, en una tupla no es posible agregar ni eliminar elementos. Las tuplas se declaran separando los elementos por comas y entre paréntesis.\n",
        "- Diccionarios: Los diccionarios son objetos que contienen una lista de parejas de elementos. De cada pareja un elemento es la clave, que no puede repetirse, y, el otro, un valor asociado.\n",
        "\n",
        "Los elementos de las tuplas, listas y diccionarios pueden ser de cualquier tipo de dato\n"
      ]
    },
    {
      "cell_type": "code",
      "metadata": {
        "id": "7mreej4-e7W1"
      },
      "source": [
        "tupla = (1, 2.2, 'string', 3,  4, 5.5)"
      ],
      "execution_count": null,
      "outputs": []
    },
    {
      "cell_type": "code",
      "metadata": {
        "id": "TGkXedMkgZgT"
      },
      "source": [
        "lista = [1, 'aaa', 3.3, 4, 5.5, 6, '7']"
      ],
      "execution_count": null,
      "outputs": []
    },
    {
      "cell_type": "code",
      "source": [
        "a=5"
      ],
      "metadata": {
        "id": "aWOg-JVZj_16"
      },
      "execution_count": null,
      "outputs": []
    },
    {
      "cell_type": "markdown",
      "metadata": {
        "id": "udGCN-8Cgz1p"
      },
      "source": [
        "Para acceder a los elementos de una tupla o una lista, debemos utilizas los indices, es decir, la posición en la que se encuentra el elemento.\n",
        "Los indices empiezan desde 0.\n",
        "Para acceder a el último elemento, se usa el -1. A el penúltimo -2 y así sucesivamente."
      ]
    },
    {
      "cell_type": "code",
      "source": [
        "lista[6]"
      ],
      "metadata": {
        "id": "hbvvnrVvkWM5"
      },
      "execution_count": null,
      "outputs": []
    },
    {
      "cell_type": "code",
      "source": [
        "x = 'prueba'"
      ],
      "metadata": {
        "id": "5S8GZHxOkuyw"
      },
      "execution_count": null,
      "outputs": []
    },
    {
      "cell_type": "code",
      "source": [
        "x[0]"
      ],
      "metadata": {
        "id": "mSjXb0lMkxvw"
      },
      "execution_count": null,
      "outputs": []
    },
    {
      "cell_type": "code",
      "source": [
        "lista[-1]"
      ],
      "metadata": {
        "id": "yS9nk-aJknVk"
      },
      "execution_count": null,
      "outputs": []
    },
    {
      "cell_type": "code",
      "metadata": {
        "id": "R-ABljkviFkQ"
      },
      "source": [
        "# Accedemos a el primer elemento de la lista\n",
        "print(f\"Primer elemento de la lista: {lista[0]}\")\n",
        "\n",
        "# Accedemos a el último elemento de la lista\n",
        "print(f\"Último elemento de la lista: {lista[-1]}\")\n",
        "\n",
        "# Accedemos a el penúltimo elemento de la lista\n",
        "print(f\"Penúltimo elemento de la lista: {lista[-2]}\")"
      ],
      "execution_count": null,
      "outputs": []
    },
    {
      "cell_type": "code",
      "metadata": {
        "id": "EiYXV_U6jXQT"
      },
      "source": [
        "# Accedemos a el primer elemento de la tupla\n",
        "print(f\"Primer elemento de la tupla: {tupla[0]}\")\n",
        "\n",
        "# Accedemos a el último elemento de la tupla\n",
        "print(f\"Último elemento de la tupla: {tupla[-1]}\")\n",
        "\n",
        "# Accedemos a el penúltimo elemento de la tupla\n",
        "print(f\"Penúltimo elemento de la tupla: {tupla[-2]}\")"
      ],
      "execution_count": null,
      "outputs": []
    },
    {
      "cell_type": "markdown",
      "metadata": {
        "id": "0E7vZzphjfVj"
      },
      "source": [
        "COMPLETAR LAS SIGUIENTES CELDAS:"
      ]
    },
    {
      "cell_type": "code",
      "metadata": {
        "id": "cXGZ7nQ2jieQ"
      },
      "source": [
        "# IMPRIMIR EL TIPO DE DATO DE EL PRIMER Y TERCER ELEMENTO DE LA TUPLA"
      ],
      "execution_count": null,
      "outputs": []
    },
    {
      "cell_type": "code",
      "source": [
        "type(tupla[0])"
      ],
      "metadata": {
        "id": "-7OOL71Pk4Md"
      },
      "execution_count": null,
      "outputs": []
    },
    {
      "cell_type": "code",
      "metadata": {
        "id": "uIBf-k7cjiwk"
      },
      "source": [
        "# IMPRIMIR EL TIPO DE DATO DE EL ULTIMO ELEMENTO DE LA LISTA"
      ],
      "execution_count": null,
      "outputs": []
    },
    {
      "cell_type": "code",
      "metadata": {
        "id": "XvbhzIYsji3p"
      },
      "source": [
        "# SUMAR EL PRIMER ELEMENTO DE LA TUPLA CON EL TERCERO DE LA LISTA Y ASIGNARLOS A LA VARIABLE s\n",
        "\n",
        "s = tupla[0] + lista[2]"
      ],
      "execution_count": null,
      "outputs": []
    },
    {
      "cell_type": "code",
      "source": [
        "tupla[0] + lista[2]"
      ],
      "metadata": {
        "id": "Qpm-4ohJlZsu"
      },
      "execution_count": null,
      "outputs": []
    },
    {
      "cell_type": "code",
      "metadata": {
        "id": "mPGRkNqgkCx-"
      },
      "source": [
        "# IMPRIMIR EL TIPO DE LA VARIABLE s\n",
        "s"
      ],
      "execution_count": null,
      "outputs": []
    },
    {
      "cell_type": "markdown",
      "metadata": {
        "id": "Izybm9DVkJ0N"
      },
      "source": [
        "Atención a el tipo de la variable s. Que tipos de datos sumamos? Y que tipo de dato se creo?"
      ]
    },
    {
      "cell_type": "markdown",
      "metadata": {
        "id": "jf83dX0klZS8"
      },
      "source": [
        "Para ver el largo de una lista, podemos utilizar la funcion len()"
      ]
    },
    {
      "cell_type": "code",
      "metadata": {
        "id": "LMAFGOujlcYj"
      },
      "source": [
        "print(f\"La lista tiene {len(lista)} elementos\")"
      ],
      "execution_count": null,
      "outputs": []
    },
    {
      "cell_type": "code",
      "source": [
        "len(lista)"
      ],
      "metadata": {
        "id": "ePu2e8jOlhh2"
      },
      "execution_count": null,
      "outputs": []
    },
    {
      "cell_type": "code",
      "source": [
        "lista[6]"
      ],
      "metadata": {
        "id": "uvz43Cd_lmZo"
      },
      "execution_count": null,
      "outputs": []
    },
    {
      "cell_type": "markdown",
      "metadata": {
        "id": "2q7f_Q3JljDy"
      },
      "source": [
        "Lo mismo con tuplas"
      ]
    },
    {
      "cell_type": "code",
      "metadata": {
        "id": "laC4pHIclkPw"
      },
      "source": [
        "print(f\"La tupla tiene {len(tupla)} elementos\")"
      ],
      "execution_count": null,
      "outputs": []
    },
    {
      "cell_type": "markdown",
      "metadata": {
        "id": "Cb2rAjMvlGel"
      },
      "source": [
        "Como dijimos, las listas son objetos mutables. Es decir, que les podemos agregar y quitar elementos:"
      ]
    },
    {
      "cell_type": "code",
      "metadata": {
        "id": "TDmqxQ2XlMrK"
      },
      "source": [
        "print(lista)"
      ],
      "execution_count": null,
      "outputs": []
    },
    {
      "cell_type": "code",
      "metadata": {
        "id": "yLjrZvsKlMtV"
      },
      "source": [
        "# Agregamos un elemento a la lista\n",
        "lista.append('otro elemento')\n",
        "print(lista)"
      ],
      "execution_count": null,
      "outputs": []
    },
    {
      "cell_type": "code",
      "metadata": {
        "id": "NpoqTJOVlwPF"
      },
      "source": [
        "print(f\"La lista ahora tiene {len(lista)} elementos\")"
      ],
      "execution_count": null,
      "outputs": []
    },
    {
      "cell_type": "code",
      "metadata": {
        "id": "LCL7h2CulMvz"
      },
      "source": [
        "# Eliminamos un elemento de la lista\n",
        "lista.remove('aaa')"
      ],
      "execution_count": null,
      "outputs": []
    },
    {
      "cell_type": "code",
      "metadata": {
        "id": "jGcvZrwsl_9Q"
      },
      "source": [
        "print(lista)"
      ],
      "execution_count": null,
      "outputs": []
    },
    {
      "cell_type": "code",
      "metadata": {
        "id": "uSZKaU2kmA5o"
      },
      "source": [
        "print(f\"La lista ahora tiene {len(lista)} elementos\")"
      ],
      "execution_count": null,
      "outputs": []
    },
    {
      "cell_type": "markdown",
      "metadata": {
        "id": "PhFEZPVHmC8m"
      },
      "source": [
        "Las tuplas son inmutables, por lo que no tienen los métodos append y remove."
      ]
    },
    {
      "cell_type": "markdown",
      "metadata": {
        "id": "N3lkZgj3ngyi"
      },
      "source": [
        "### Slicing en listas\n",
        "\n",
        "Como vimos recién, se puede acceder a elementos específicos de una lista. Además, python nos permite acceder a un subconjunto de los elementos de una lista con lo que se conoce como slicing.\n",
        "\n",
        "Slicing se realiza utilizando \":\" de la forma:\n",
        "[start:stop]\n",
        "\n",
        "Veámoslo en el código"
      ]
    },
    {
      "cell_type": "code",
      "metadata": {
        "id": "KVm1FA6un3sa"
      },
      "source": [
        "print(lista)"
      ],
      "execution_count": null,
      "outputs": []
    },
    {
      "cell_type": "code",
      "metadata": {
        "id": "S1YOCZCLnyqD"
      },
      "source": [
        "print(lista[1:4])"
      ],
      "execution_count": null,
      "outputs": []
    },
    {
      "cell_type": "markdown",
      "metadata": {
        "id": "jHlsjM8OoRLX"
      },
      "source": [
        "Además, podemos agregar un parámetro :step, para ir obteniendo elementos de step en step.\n",
        "\n",
        "[start:stop:step]"
      ]
    },
    {
      "cell_type": "code",
      "metadata": {
        "id": "pzgW7Vpkoe0T"
      },
      "source": [
        "print(lista[0:6:3]) #comentario"
      ],
      "execution_count": null,
      "outputs": []
    },
    {
      "cell_type": "markdown",
      "metadata": {
        "id": "lbNyfj2bork3"
      },
      "source": [
        "Si no ponemos el parámetro start, por defecto va a ser 0.\n",
        "\n",
        "Si no ponemos el parámetro stop, por defecto va a ser -1.\n",
        "\n",
        "Si no ponemos el parámetro step, por defecto va a ser 1.\n",
        "\n",
        "Entonces:"
      ]
    },
    {
      "cell_type": "code",
      "metadata": {
        "id": "3P5PHg5mobgz"
      },
      "source": [
        "# IMPRIMIR LOS ÚLTIMOS 3 ELEMENTOS DE LA LISTA\n",
        "last_three = # COMPLETAR\n",
        "print(f\"Últimos 3 elementos de la lista {last_three}\")"
      ],
      "execution_count": null,
      "outputs": []
    },
    {
      "cell_type": "code",
      "metadata": {
        "id": "g9RYJ2zGpjVy"
      },
      "source": [
        "lista"
      ],
      "execution_count": null,
      "outputs": []
    },
    {
      "cell_type": "code",
      "metadata": {
        "id": "UHOQ4rO4pNAk"
      },
      "source": [
        "# IMPRIMIR DESDE EL 2do ITEM DE LA LISTA EN ADELANTE\n",
        "from_second = # COMPLETAR\n",
        "print(f\"Últimos 3 elementos de la lista {from_second}\")"
      ],
      "execution_count": null,
      "outputs": []
    },
    {
      "cell_type": "markdown",
      "metadata": {
        "id": "9STUEtmVp66F"
      },
      "source": [
        "### Listas anidadas\n",
        "\n",
        "COmo dijimos anteriormente, las listas pueden contener elementos de cualquier tipo (int, float, otras listas, diccionarios, etc).\n",
        "\n",
        "Por lo tanto, una lista puede contener otras listas:"
      ]
    },
    {
      "cell_type": "code",
      "metadata": {
        "id": "RW4UJw_ep8Xj"
      },
      "source": [
        "lista_de_listas = [[1,2,3], [4,5,6]]"
      ],
      "execution_count": null,
      "outputs": []
    },
    {
      "cell_type": "markdown",
      "metadata": {
        "id": "1Riyf21-qIFw"
      },
      "source": [
        "Como creen que podemos acceder a el primer elemento de la primer lista?\n"
      ]
    },
    {
      "cell_type": "code",
      "metadata": {
        "id": "9MLZddqZqL2S"
      },
      "source": [
        "primer_item_primer_lista = # COMPLETAR\n",
        "print(f\"El primer elemento de la primer lista es: {primer_item_primer_lista}\")"
      ],
      "execution_count": null,
      "outputs": []
    },
    {
      "cell_type": "markdown",
      "metadata": {
        "id": "AL4BzOl6qje0"
      },
      "source": [
        "Qué largo tiene la lista de listas?"
      ]
    },
    {
      "cell_type": "code",
      "metadata": {
        "id": "fpGTqcghqlNh"
      },
      "source": [
        "print(len(lista_de_listas))"
      ],
      "execution_count": null,
      "outputs": []
    },
    {
      "cell_type": "markdown",
      "metadata": {
        "id": "UkE6MMLLR-Tc"
      },
      "source": [
        "### Detalle importante!"
      ]
    },
    {
      "cell_type": "code",
      "metadata": {
        "id": "HYcEZY9CSARg"
      },
      "source": [
        "lista_1 = [1,2,3,4]\n",
        "lista_2 = lista_1  #lista_2 ahora es igual a lista_1\n",
        "lista_2[-1] = 100 #el ultimo elemento de la lista ahora es 100, con -1 seleccionamos el ultimo elemento de la lista\n",
        "print(lista_1, lista_2)"
      ],
      "execution_count": null,
      "outputs": []
    },
    {
      "cell_type": "markdown",
      "metadata": {
        "id": "OiO8B_A3SCgj"
      },
      "source": [
        "Ambas listas se modificaron!"
      ]
    },
    {
      "cell_type": "code",
      "metadata": {
        "id": "pu3c1J78SCBL"
      },
      "source": [
        "lista_1 = [1,2,3,4]\n",
        "lista_2 = lista_1.copy()\n",
        "lista_2[-1] = 100\n",
        "print(lista_1, lista_2)"
      ],
      "execution_count": null,
      "outputs": []
    },
    {
      "cell_type": "markdown",
      "metadata": {
        "id": "jnKeOAKdSGf7"
      },
      "source": [
        "Ahora no"
      ]
    },
    {
      "cell_type": "markdown",
      "metadata": {
        "id": "oe-X7HS30R9s"
      },
      "source": [
        "# In, Not in\n",
        "\n",
        "Con las expresiones \"in\" y \"not in\" podemos saber si un elemento está en una lista o no. Estas expresiones retornan True o False (un bool) dependiendo de si se cumple o no la condición."
      ]
    },
    {
      "cell_type": "code",
      "metadata": {
        "id": "eX4gEUKy0Uac"
      },
      "source": [
        "lista_de_elementos = ['a', 'b', 'c', 'd']\n",
        "\n",
        "print('b' in lista_de_elementos)"
      ],
      "execution_count": null,
      "outputs": []
    },
    {
      "cell_type": "code",
      "metadata": {
        "id": "fQWTljl60mj6"
      },
      "source": [
        "print('x' in lista_de_elementos)"
      ],
      "execution_count": null,
      "outputs": []
    },
    {
      "cell_type": "code",
      "metadata": {
        "id": "5U-lQ18F0puk"
      },
      "source": [
        "print('x' not in lista_de_elementos)"
      ],
      "execution_count": null,
      "outputs": []
    },
    {
      "cell_type": "markdown",
      "metadata": {
        "id": "iv2v9S-Cqtqi"
      },
      "source": [
        "### Diccionarios"
      ]
    },
    {
      "cell_type": "markdown",
      "metadata": {
        "id": "sMDe40mNlDrw"
      },
      "source": [
        "Ahora, veamos que podemos hacer con un diccionario"
      ]
    },
    {
      "cell_type": "code",
      "metadata": {
        "id": "EMonTzxcgmtK"
      },
      "source": [
        "diccionario = {\n",
        "    'clave': 'valor',\n",
        "    'clave2': 'valor_2',\n",
        "    'clave3': 'valor_3'\n",
        "}"
      ],
      "execution_count": null,
      "outputs": []
    },
    {
      "cell_type": "code",
      "source": [
        "notas = {'agustin': 5, 'natalia': 2, 'carolina':10}"
      ],
      "metadata": {
        "id": "Ku5BGk6em6IX"
      },
      "execution_count": null,
      "outputs": []
    },
    {
      "cell_type": "code",
      "source": [
        "notas['agustin'] = 7"
      ],
      "metadata": {
        "id": "K28-yTCdnDoR"
      },
      "execution_count": null,
      "outputs": []
    },
    {
      "cell_type": "code",
      "source": [
        "notas['hernan'] = 10"
      ],
      "metadata": {
        "id": "N9wK4AiHnJqy"
      },
      "execution_count": null,
      "outputs": []
    },
    {
      "cell_type": "code",
      "source": [
        "notas"
      ],
      "metadata": {
        "id": "ouGbDptOnR1b"
      },
      "execution_count": null,
      "outputs": []
    },
    {
      "cell_type": "code",
      "metadata": {
        "id": "BDVWlbjrqvVD"
      },
      "source": [
        "type(diccionario)"
      ],
      "execution_count": null,
      "outputs": []
    },
    {
      "cell_type": "markdown",
      "metadata": {
        "id": "pEyuj_9qmJrh"
      },
      "source": [
        "Como vimos anteriormente, los diccionarios son objetos que se forman con claves y valores.\n",
        "Para acceder a un item del diccionario utilizamos la clave:"
      ]
    },
    {
      "cell_type": "code",
      "metadata": {
        "id": "qA370G-MgwyI"
      },
      "source": [
        "print(diccionario['clave'])"
      ],
      "execution_count": null,
      "outputs": []
    },
    {
      "cell_type": "code",
      "metadata": {
        "id": "mdsgDoGwmWkG"
      },
      "source": [
        "print(diccionario['clave2'])"
      ],
      "execution_count": null,
      "outputs": []
    },
    {
      "cell_type": "code",
      "metadata": {
        "id": "kBDUeBwHmXtQ"
      },
      "source": [
        "print(diccionario['clave3'])"
      ],
      "execution_count": null,
      "outputs": []
    },
    {
      "cell_type": "markdown",
      "metadata": {
        "id": "H0Krcxu-mfmx"
      },
      "source": [
        "Podemos agregar nuevas claves a un diccionario:"
      ]
    },
    {
      "cell_type": "code",
      "metadata": {
        "id": "Q96zrQq7mZl-"
      },
      "source": [
        "diccionario['nueva_clave'] = 'nuevo valor'"
      ],
      "execution_count": null,
      "outputs": []
    },
    {
      "cell_type": "code",
      "metadata": {
        "id": "0t7ZXGTMmkq_"
      },
      "source": [
        "print(diccionario)"
      ],
      "execution_count": null,
      "outputs": []
    },
    {
      "cell_type": "markdown",
      "metadata": {
        "id": "IwtxnIyzm3B-"
      },
      "source": [
        "Para conocer todas las claves de un diccionario, podemos usar el método .keys(). Veamos un ejemplo:"
      ]
    },
    {
      "cell_type": "code",
      "metadata": {
        "id": "mrgkksrommxv"
      },
      "source": [
        "print(diccionario.keys())"
      ],
      "execution_count": null,
      "outputs": []
    },
    {
      "cell_type": "markdown",
      "metadata": {
        "id": "FH6vL6PT0zKo"
      },
      "source": [
        "De que tipo es el objeto que nos retorna diccionario.keys()?"
      ]
    },
    {
      "cell_type": "code",
      "metadata": {
        "id": "vEVnN3fp0vpN"
      },
      "source": [
        "tipo = type(diccionario.keys())\n",
        "print(f\"El tipo de el objeto es: {tipo}\")"
      ],
      "execution_count": null,
      "outputs": []
    },
    {
      "cell_type": "code",
      "source": [
        "tipo = type(diccionario.values())\n",
        "print(f\"El tipo de el objeto es: {tipo}\")"
      ],
      "metadata": {
        "id": "ABadnvTEnfXF"
      },
      "execution_count": null,
      "outputs": []
    },
    {
      "cell_type": "markdown",
      "metadata": {
        "id": "AGpWV55x1Dkp"
      },
      "source": [
        "Podemos transformarlo en lista? Como se les ocurre ?\n",
        "RECUERDEN QUE SIEMPRE SE PUEDE USAR GOOGLE"
      ]
    },
    {
      "cell_type": "code",
      "metadata": {
        "id": "Mg8nD-jP1KJm"
      },
      "source": [
        "keys_transformado_en_lista = list(diccionario.keys())\n",
        "print(f\"El tipo de el objeto keys ahora es: {type(keys_transformado_en_lista)}\")"
      ],
      "execution_count": null,
      "outputs": []
    },
    {
      "cell_type": "code",
      "source": [
        "keys_transformado_en_lista"
      ],
      "metadata": {
        "id": "d7lQTi1TntPq"
      },
      "execution_count": null,
      "outputs": []
    },
    {
      "cell_type": "code",
      "source": [
        "for estudiante in keys_transformado_en_lista:\n",
        "  print(estudiante,notas[estudiante])"
      ],
      "metadata": {
        "id": "fdrZuDf8nwbQ"
      },
      "execution_count": null,
      "outputs": []
    },
    {
      "cell_type": "markdown",
      "metadata": {
        "id": "aePsZ2gA1SrH"
      },
      "source": [
        "Ahora que el objeto es una lista, podemos acceder a sus valores de una forma simple (usando indices por ejemplo).\n"
      ]
    },
    {
      "cell_type": "code",
      "metadata": {
        "id": "ZjmXzUug1Y9p"
      },
      "source": [
        "# IMPRIMIR EL PRIMER ELEMENTO DE LAS KEYS"
      ],
      "execution_count": null,
      "outputs": []
    },
    {
      "cell_type": "markdown",
      "metadata": {
        "id": "McGw885dm98l"
      },
      "source": [
        "Para conocer los valores de un diccionario, existe el método .values()"
      ]
    },
    {
      "cell_type": "code",
      "metadata": {
        "id": "WoSNqRP4m9Ya"
      },
      "source": [
        "print(diccionario.values())"
      ],
      "execution_count": null,
      "outputs": []
    },
    {
      "cell_type": "markdown",
      "metadata": {
        "id": "XO0uOkgIqyT9"
      },
      "source": [
        "Asi como podemos tener listas de listas, podemos tener un diccionario anidado, o un diccionario que contenga listas.\n",
        "\n",
        "Juguemos un poco con los diccionarios:"
      ]
    },
    {
      "cell_type": "markdown",
      "metadata": {
        "id": "mbW02ePNq8Li"
      },
      "source": [
        "Crear un diccionario d en el que contenga las keys:\n",
        "- 'dicc'\n",
        "- 'lista'\n",
        "- 'tupla'\n",
        "- 'numero'\n",
        "\n",
        "y que cada una de esas keys, tenga como valor el tipo de dato que corresponda según su nombre"
      ]
    },
    {
      "cell_type": "code",
      "metadata": {
        "id": "pdBUAzGqq3yR"
      },
      "source": [
        "d = {'dict':type({'d':1}),\n",
        "     'lista':type([1]),\n",
        "     'tupla':type((1)),\n",
        "     'numero': type(1)\n",
        "     }"
      ],
      "execution_count": null,
      "outputs": []
    },
    {
      "cell_type": "code",
      "source": [
        "d"
      ],
      "metadata": {
        "id": "rcfgQqbSoefL"
      },
      "execution_count": null,
      "outputs": []
    },
    {
      "cell_type": "markdown",
      "metadata": {
        "id": "fX7Rno3jloj7"
      },
      "source": [
        "## Palabras reservadas\n",
        "\n",
        "En python, asi como en todos los lenguajes de programación, hay palabras reservadas. Estas palabras no podemos utilizarlas como nombres de variables. Vamos a ir descubriendolas mientras aprendamos, pero algunos ejemplos son:\n",
        "\n",
        "- str\n",
        "- int\n",
        "- for\n",
        "- None\n",
        "- True\n",
        "- False\n",
        "- while\n",
        "- if\n",
        "- else"
      ]
    },
    {
      "cell_type": "markdown",
      "metadata": {
        "id": "wg4H9C92OfTf"
      },
      "source": [
        "## Operaciones lógicas\n",
        "\n",
        "Una expresión booleana (o expresión lógica) es evaluada como verdadera (**True**) o falsa (**False**). Python provee el tipo de dato bool que puede contener los valores True o False. Muchas funciones y operaciones retornan objetos booleanos.\n",
        "\n",
        "Los operadores:\n",
        "- `<`\n",
        "- `<=`\n",
        "- `>`\n",
        "- `>=`\n",
        "- `== `\n",
        "- `!= `\n",
        "\n",
        "comparan el valor de dos objetos y retornan True o False.\n",
        "\n",
        "\n",
        "\n",
        "\n",
        "\n",
        "\n"
      ]
    },
    {
      "cell_type": "code",
      "source": [
        "a == 5"
      ],
      "metadata": {
        "id": "8m-yJWHKo1-I"
      },
      "execution_count": null,
      "outputs": []
    },
    {
      "cell_type": "code",
      "metadata": {
        "id": "7kGCcZQMPRX2"
      },
      "source": [
        "1 == 1"
      ],
      "execution_count": null,
      "outputs": []
    },
    {
      "cell_type": "code",
      "metadata": {
        "id": "TUNuvEvuPEKO"
      },
      "source": [
        "1 == 2"
      ],
      "execution_count": null,
      "outputs": []
    },
    {
      "cell_type": "code",
      "metadata": {
        "id": "pLcnSrCPPbtG"
      },
      "source": [
        "1 < 5"
      ],
      "execution_count": null,
      "outputs": []
    },
    {
      "cell_type": "markdown",
      "metadata": {
        "id": "M__V_FoSPcS1"
      },
      "source": [
        "Estos valores pueden ser almacenados en variables"
      ]
    },
    {
      "cell_type": "code",
      "metadata": {
        "id": "2PLZuwDXPhRD"
      },
      "source": [
        "a = 1 == 1\n",
        "print(a)"
      ],
      "execution_count": null,
      "outputs": []
    },
    {
      "cell_type": "markdown",
      "metadata": {
        "id": "tQj31n9rPDD9"
      },
      "source": [
        "La palabra reservada **not** puede ser utilizada para invertir un valor booleano."
      ]
    },
    {
      "cell_type": "code",
      "metadata": {
        "id": "_2nceak0Plpu"
      },
      "source": [
        "not 1 == 1"
      ],
      "execution_count": null,
      "outputs": []
    },
    {
      "cell_type": "markdown",
      "metadata": {
        "id": "pamy0l_gPnmO"
      },
      "source": [
        "Qué retorna la siguiente expresión?"
      ]
    },
    {
      "cell_type": "code",
      "metadata": {
        "id": "p8DC_B_ePnDm"
      },
      "source": [
        "v1 = \"5\"\n",
        "v2 = 5\n",
        "\n",
        "v1 == v2"
      ],
      "execution_count": null,
      "outputs": []
    },
    {
      "cell_type": "code",
      "metadata": {
        "id": "arW63G82P2p_"
      },
      "source": [
        "v1 == str(v2)"
      ],
      "execution_count": null,
      "outputs": []
    },
    {
      "cell_type": "code",
      "source": [
        "variable_color == 'verde'"
      ],
      "metadata": {
        "id": "JqLsnstdo_9_"
      },
      "execution_count": null,
      "outputs": []
    },
    {
      "cell_type": "markdown",
      "metadata": {
        "id": "flG5mqNWP6KY"
      },
      "source": [
        "En python podemos utilizar las operaciones lógicas `and` y `or`\n",
        "\n"
      ]
    },
    {
      "cell_type": "code",
      "metadata": {
        "id": "-YFvWZxJQcms"
      },
      "source": [
        "(1 == 1) and (2==2) #en pandas se puede reemplazar por un &"
      ],
      "execution_count": null,
      "outputs": []
    },
    {
      "cell_type": "code",
      "metadata": {
        "id": "pcGyaY4fQspp"
      },
      "source": [
        "(1 == 1) and (1 == 2)"
      ],
      "execution_count": null,
      "outputs": []
    },
    {
      "cell_type": "code",
      "metadata": {
        "id": "2bRGR4ZsQv-p"
      },
      "source": [
        "(1 == 1) or (2 == 2)"
      ],
      "execution_count": null,
      "outputs": []
    },
    {
      "cell_type": "code",
      "metadata": {
        "id": "O2Ey_LaBQwI5"
      },
      "source": [
        "(1 == 2) or (1 == 1)"
      ],
      "execution_count": null,
      "outputs": []
    },
    {
      "cell_type": "markdown",
      "source": [
        "(variable_color == 'verde') and (variable_anio == '2022')"
      ],
      "metadata": {
        "id": "O6xVF3bFp0HR"
      }
    },
    {
      "cell_type": "markdown",
      "metadata": {
        "id": "QqA-MjjRSMTH"
      },
      "source": [
        "## Condicionales\n",
        "\n",
        "Los condicionales son un bloque de código que se va a ejecutar solo en caso de que la condicón se cumpla.\n",
        "\n",
        "Tanto en condicionales como otros bloques que vamos a ver a continuación, es muy importante la tabulación.\n"
      ]
    },
    {
      "cell_type": "code",
      "metadata": {
        "id": "KzoungElSTCB"
      },
      "source": [
        "if 1 == 1:\n",
        "  print(\"Este bloque se ejecuta porque la condición se evalua como True!\") # Prestar atención al tab"
      ],
      "execution_count": null,
      "outputs": []
    },
    {
      "cell_type": "code",
      "metadata": {
        "id": "kky92dJRSTFS"
      },
      "source": [
        "if 1 == 2:\n",
        "  print(\"Esto no se va a imprimir\")"
      ],
      "execution_count": null,
      "outputs": []
    },
    {
      "cell_type": "markdown",
      "metadata": {
        "id": "fx5Rh_duS9kk"
      },
      "source": [
        "A veces queremos que si una condición se cumple, se ejecute un bloque de código, pero si no se cumple, se ejecute otra. La forma de hacer esto es utilizando el bloque `else`"
      ]
    },
    {
      "cell_type": "code",
      "metadata": {
        "id": "JrfjKynWTKPG"
      },
      "source": [
        "if 1==2:\n",
        "  print(\"Esto no se imprime\")\n",
        "else:\n",
        "  print(\"Esto si se imprime\")"
      ],
      "execution_count": null,
      "outputs": []
    },
    {
      "cell_type": "markdown",
      "source": [
        "if variable_color == 'verde':\n",
        "  valor = valor + 10\n",
        "else:\n",
        "  valor = valor"
      ],
      "metadata": {
        "id": "nLG3TD8UqmpJ"
      }
    },
    {
      "cell_type": "code",
      "metadata": {
        "id": "FlYtGShmTQNg"
      },
      "source": [
        "if 1==1:\n",
        "print(\"Esto si se imprime\")\n",
        "else:\n",
        "  print(\"Esto no se imprime\")"
      ],
      "execution_count": null,
      "outputs": []
    },
    {
      "cell_type": "markdown",
      "metadata": {
        "id": "5Q_oN5lTTY2v"
      },
      "source": [
        "También podemos definir varias condiciones en un solo if"
      ]
    },
    {
      "cell_type": "code",
      "metadata": {
        "id": "DzZqnwktTcfd"
      },
      "source": [
        "if 1==2:\n",
        "  # Falso\n",
        "  print(\"Falso\")\n",
        "elif 1 == 3:\n",
        "  # Falso\n",
        "  print(\"Falso\")\n",
        "elif 1 == 4:\n",
        "  # Falso\n",
        "  print(\"Falso\")\n",
        "elif 1 < 5:\n",
        "  print(\"Verdadero!\")"
      ],
      "execution_count": null,
      "outputs": []
    },
    {
      "cell_type": "markdown",
      "metadata": {
        "id": "FuUie589Tw2A"
      },
      "source": [
        "## Loops\n",
        "\n",
        "Los Loops son estructuras de codigo fundamentales en cualquier lenguaje de programación. Son bloques de código que se repiten dada una cierta cantidad de veces dada una condición.\n",
        "Como en el if, en estos loops es muy importante respetar la indentación.\n",
        "\n",
        "### For\n",
        "El For es un loop en el que un bloque de código se repite tantas veces como elementos haya en una determinada lista. En cada iteración (repetición) hay una variable que va tomando el valor de uno de los elementos en esta lista."
      ]
    },
    {
      "cell_type": "code",
      "metadata": {
        "id": "5NsKPkgSUSXV"
      },
      "source": [
        "lista = [1,5, 10, 20, 25, 34, 100]\n",
        "\n",
        "for elem in lista:\n",
        "    print(elem)"
      ],
      "execution_count": null,
      "outputs": []
    },
    {
      "cell_type": "markdown",
      "metadata": {
        "id": "hZa-kr0pUqu4"
      },
      "source": [
        "También podemos recorrer listas de texto:"
      ]
    },
    {
      "cell_type": "code",
      "source": [
        "'str' == 'string'"
      ],
      "metadata": {
        "id": "W-JCBNRlst6o"
      },
      "execution_count": null,
      "outputs": []
    },
    {
      "cell_type": "code",
      "metadata": {
        "id": "BKtShs2cUlo0"
      },
      "source": [
        "lista_texto = ['str', 'int', 'float']\n",
        "nueva_lista = []\n",
        "nueva_lista_str = []\n",
        "\n",
        "for elem in lista_texto:\n",
        "    oracion = elem + ' es un tipo de dato.'\n",
        "    if elem == 'str':\n",
        "      nueva_lista_str.append(oracion)\n",
        "    else:\n",
        "      nueva_lista.append(oracion)\n",
        "\n",
        "print(nueva_lista, nueva_lista_str)\n",
        "\n",
        "# Este print esta fuera del for, no está indentado\n",
        "#print(nueva_lista)"
      ],
      "execution_count": null,
      "outputs": []
    },
    {
      "cell_type": "code",
      "source": [
        "nueva_lista = []\n",
        "for hola in lista_texto:\n",
        "    oracion = hola + ' es un tipo de dato.'\n",
        "    nueva_lista.append(oracion)\n",
        "    print(elem, nueva_lista)"
      ],
      "metadata": {
        "id": "q8z9v-Khrk1a"
      },
      "execution_count": null,
      "outputs": []
    },
    {
      "cell_type": "code",
      "source": [
        "nueva_lista= [x + ' es un tipo de dato.' if x == 'str' else x + ' not str' for x in lista_texto]"
      ],
      "metadata": {
        "id": "3x_NOzxJr3EI"
      },
      "execution_count": null,
      "outputs": []
    },
    {
      "cell_type": "code",
      "source": [
        "nueva_lista"
      ],
      "metadata": {
        "id": "ds30M0NetWxg"
      },
      "execution_count": null,
      "outputs": []
    },
    {
      "cell_type": "code",
      "source": [
        "nueva_lista"
      ],
      "metadata": {
        "id": "dqZQcOLfsCN1"
      },
      "execution_count": null,
      "outputs": []
    },
    {
      "cell_type": "markdown",
      "metadata": {
        "id": "18OounEJVAms"
      },
      "source": [
        "Y también podemos combinar esto con un if! Veamos..\n",
        "\n",
        "##### Ejercicio:\n",
        "\n",
        "Con un bloque de código similar al anterior, armar una lista que contenga las frases:\n",
        "\n",
        "['str es un tipo de dato.', 'int es otro tipo de dato.', ' y float es otro tipo de dato.']\n",
        "\n",
        "Es decir, en cada iteración debemos realizar operaciones distintas para meter la frase en la lista.\n",
        "\n",
        "Pista: Hay que definir nuevas variables y utilizar un if."
      ]
    },
    {
      "cell_type": "code",
      "source": [
        "for elem in lista_texto:\n",
        "  if elem == 'str':\n",
        "    #agregar 'str es un tipo de dato.'\n",
        "  elif elem == 'int':\n",
        "    #agregar 'int es otro tipo de dato.'\n",
        "  else: #puedo asumir que el 'float' entra aca\n",
        "    #agregar ' y float es otro tipo de dato.'\n",
        "\n"
      ],
      "metadata": {
        "id": "xpiq66XJt28A"
      },
      "execution_count": null,
      "outputs": []
    },
    {
      "cell_type": "code",
      "metadata": {
        "id": "JXIdcfPXVbK5"
      },
      "source": [
        "lista_texto = ['str', 'int', 'float']\n",
        "nueva_lista = []\n",
        "\n",
        "# COMPLETAR\n",
        "for elem in lista_texto:\n",
        "    oracion = elem + ' es un tipo de dato.'\n",
        "    nueva_lista.append(oracion)\n",
        "\n",
        "print(nueva_lista)"
      ],
      "execution_count": null,
      "outputs": []
    },
    {
      "cell_type": "markdown",
      "metadata": {
        "id": "dZBoXJ0-WBuI"
      },
      "source": [
        "### While\n",
        "\n",
        "El while repite un bloque de código mientras se cumpla una cierta condición que le ponemos.  Es importante en este caso, asegurarnos que el loop en algún momento termine."
      ]
    },
    {
      "cell_type": "code",
      "source": [
        "while 1<5:\n",
        "  print('cierto')"
      ],
      "metadata": {
        "id": "ut6G7FrKupwa"
      },
      "execution_count": null,
      "outputs": []
    },
    {
      "cell_type": "code",
      "metadata": {
        "id": "0MDKsBQqWInc"
      },
      "source": [
        "i = 1\n",
        "\n",
        "while i <= 5:\n",
        "    print(i)\n",
        "    i = i + 1\n",
        "    break"
      ],
      "execution_count": null,
      "outputs": []
    },
    {
      "cell_type": "markdown",
      "metadata": {
        "id": "CS4P5FQKWaqr"
      },
      "source": [
        "Si la condición que ponemos en el while es siempre cierta, el programa se va a clavar. Pueden probarlo! No van a romper nada, simplemente reinician y listo. Como dijimos al principio, nada de esto es irreversible."
      ]
    },
    {
      "cell_type": "markdown",
      "metadata": {
        "id": "qarVz_MbsNtP"
      },
      "source": [
        "# Ahora practiquemos..."
      ]
    },
    {
      "cell_type": "markdown",
      "metadata": {
        "id": "Twovbl7Pt13O"
      },
      "source": [
        "Armar la frase\n",
        "\n",
        "'Esto es un string armado a partir de la concatenación de algunas variables'\n",
        "\n",
        "A partir de la concatenación de las siguientes variables (sin modificar el valor de ninguna)"
      ]
    },
    {
      "cell_type": "code",
      "source": [
        "txt1 = 'Esto '\n",
        "txt2 = ['string', 'es un']\n",
        "tet3 = {\n",
        "    'txt_3_key_1': 'a partir',\n",
        "    'txt_3_key_2': 'concatenacion',\n",
        "}\n",
        "txt4 = ('armado', 'de la', 's')\n",
        "txt5 = 'de alguna'\n",
        "txt6 = 'variable'\n",
        "txt7 = ' '"
      ],
      "metadata": {
        "id": "myTSEcscvoYC"
      },
      "execution_count": null,
      "outputs": []
    },
    {
      "cell_type": "code",
      "metadata": {
        "id": "baPPK4IbsUn0"
      },
      "source": [
        "txt1 = 'Esto '\n",
        "txt2 = ['string', 'es un']\n",
        "tet3 = {\n",
        "    'txt_3_key_1': 'a partir',\n",
        "    'txt_3_key_2': 'concatenacion',\n",
        "}\n",
        "txt4 = ('armado', 'de la', 's')\n",
        "txt5 = 'de alguna'\n",
        "txt6 = 'variable'\n",
        "txt7 = ' '\n",
        "\n",
        "# Tener en cuenta espacios, palabras en plural y singular\n",
        "\n",
        "frase = #COMPLETAR\n",
        "print(frase)"
      ],
      "execution_count": null,
      "outputs": []
    },
    {
      "cell_type": "code",
      "source": [
        "txt1 + txt2[1] + ' ' +txt2[0]"
      ],
      "metadata": {
        "id": "OtulzM1pvgTU"
      },
      "execution_count": null,
      "outputs": []
    },
    {
      "cell_type": "markdown",
      "metadata": {
        "id": "Wx3elq1KVnwu"
      },
      "source": [
        "Genere una lista llamada `al_cuadrado` que contenga el cuadrado de cada elemento en la lista `numeros`."
      ]
    },
    {
      "cell_type": "code",
      "metadata": {
        "id": "XLL1N2exVnMO"
      },
      "source": [
        "numeros = [3,1,5,7,12,10,17,4,22]\n",
        "\n",
        "al_cuadrado = []\n",
        "\n",
        "for n in numeros:\n",
        "    # COMPLETAR\n",
        "print(numeros)"
      ],
      "execution_count": null,
      "outputs": []
    },
    {
      "cell_type": "markdown",
      "metadata": {
        "id": "lX_GYug6bqqT"
      },
      "source": [
        "Investigar el operador de módulo (%) en python (Google).\n",
        "\n",
        "Utilizando dicho operador, contar la cantidad de números pares e impares en la siguiente lista:"
      ]
    },
    {
      "cell_type": "code",
      "metadata": {
        "id": "YegVJu1qbtfD"
      },
      "source": [
        "numeros = [2,4,6,7,8,9,10,12,14,17,21]\n",
        "n_pares = 0\n",
        "n_impares = 0\n",
        "#COMPLETAR\n",
        "\n",
        "print(f\"Cantidad de números pares: {n_pares}\\nCantidad de números impares: {n_impares}\")"
      ],
      "execution_count": null,
      "outputs": []
    },
    {
      "cell_type": "code",
      "source": [
        "5%2"
      ],
      "metadata": {
        "id": "h7yoGrvovyba"
      },
      "execution_count": null,
      "outputs": []
    },
    {
      "cell_type": "markdown",
      "metadata": {
        "id": "cCj5Uflu-mDC"
      },
      "source": [
        "Escribir un for para buscar el máximo de la lista e imprimir su _posición_"
      ]
    },
    {
      "cell_type": "code",
      "metadata": {
        "id": "GGiIRmpz-Zra"
      },
      "source": [
        "lista=[44,11,15,29,53,12,30]\n",
        "posicion=0\n",
        "# IMPLEMENTAR\n",
        "\n",
        "#debe imprimir 4\n",
        "print(\"- La posición del máximo es:\")\n",
        "print(posicion)"
      ],
      "execution_count": null,
      "outputs": []
    },
    {
      "cell_type": "markdown",
      "metadata": {
        "id": "IPmi-ba1-nUU"
      },
      "source": [
        "Por cada elemento de la siguiente lista, imprimir si el elemento es divisible sobre 3 o no.\n",
        "\n",
        "TIP: %"
      ]
    },
    {
      "cell_type": "code",
      "metadata": {
        "id": "KNficdrZ-neB"
      },
      "source": [
        "lista = [1,2,3,4,10,13,16,20,22,27,30]\n",
        "\n",
        "# Implementar"
      ],
      "execution_count": null,
      "outputs": []
    },
    {
      "cell_type": "markdown",
      "metadata": {
        "id": "0Zpt6bYM-4TF"
      },
      "source": []
    }
  ]
}