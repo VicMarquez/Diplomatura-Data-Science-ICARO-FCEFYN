{
  "cells": [
    {
      "cell_type": "markdown",
      "metadata": {
        "id": "rx-Rj026cb8K"
      },
      "source": [
        "# Scikit learn\n",
        "\n",
        "Recuerden que tiene una muy buena [documentación](https://scikit-learn.org/stable/user_guide.html).\n",
        "\n",
        "Vimos que en general, los objetos de sklearn tienen los métodos:\n",
        "\n",
        "- fit\n",
        "- transform o predict\n",
        "\n",
        "Vamos a trabajar con un dataset sacado de una competencia de data science para aprender a utilizar skitlearn.\n",
        "\n",
        "Montamos drive"
      ]
    },
    {
      "cell_type": "code",
      "execution_count": null,
      "metadata": {
        "colab": {
          "base_uri": "https://localhost:8080/"
        },
        "id": "58o2YWh3cZyc",
        "outputId": "556e69e5-600c-452e-ef76-0b597c745111"
      },
      "outputs": [
        {
          "name": "stdout",
          "output_type": "stream",
          "text": [
            "Mounted at /content/drive\n"
          ]
        }
      ],
      "source": [
        "#from google.colab import drive # La usamos para montar nuestra unidad de Google Drive\n",
        "#drive.mount('/content/drive') # Montamos nuestra unidad de Google Drive"
      ]
    },
    {
      "cell_type": "markdown",
      "metadata": {
        "id": "WrqqXyMMmDY1"
      },
      "source": [
        "Vamos a trabajar con un dataset que contiene datos sobre la actividad de los usuarios que visitan un sitio web de ecommerce.\n",
        "\n",
        "Las columnas del dataset son:\n",
        "\n",
        "- id: Id del usuario\n",
        "- administrative: Número de veces que el usuario visito la sección \"administrative\"\n",
        "- administrative_duration: Tiempo que el usuario paso en la sección administrative\n",
        "- informational: Número de veces que el usuario visitó la sección \"informational\"\n",
        "- informational_duration: Tiempo que el usuario paso en la sección informational\n",
        "- productrelated: Número de veces que el usuario visitó la sección \"products related\"\n",
        "- productrelated_duration: Tiempo que el usuario pasó en la sección\n",
        "- bouncerates: Porcentaje de visitantes que entran a la página e inmediatamente la dejan sin interactuar con la misma. Esta metrica solo se tiene en cuenta si es la primera página que se visitó del sitio web.\n",
        "- exitrates: De la cantidad total de visitas a las páginas del sitio web, el porcentaje de usuarios que lo abandonaron en esta página. Esto es, el  porcentaje de usuarios que su última visita al sitio fué en esta página.\n",
        "- pagevalues: Este es el valor promedio del sitio web, indica la contribución que este sitio web hizo al visitante que llega a la página o sección de compra final. Más detalles sobre pageValues: https://support.google.com/analytics/answer/2695658?hl=en\n",
        "-  specialday: Es una fecha especial o no (1 o 0)\n",
        "- operatingsystems: Sistema operativo\n",
        "- browser: Nombre del navegador\n",
        "- region: Region geográfica del usuario\n",
        "- traffictype: Tipo de tráfico web\n",
        "- visitortype: Nuevo o uno que retorno al sitio\n",
        "- Weekend: 1 si es fin de semana y 0 en otro caso\n",
        "- revenue: 1 si el usuario hizo una compra y 0 en otro caso"
      ]
    },
    {
      "cell_type": "code",
      "execution_count": null,
      "metadata": {
        "id": "S6nzfjaEo9zu"
      },
      "outputs": [],
      "source": [
        "import pandas as pd\n",
        "import numpy as np\n",
        "import matplotlib.pyplot as plt\n",
        "import seaborn as sns"
      ]
    },
    {
      "cell_type": "code",
      "execution_count": null,
      "metadata": {
        "id": "4V-Z4Uc-lpFL"
      },
      "outputs": [],
      "source": [
        "df = pd.read_csv('online-shoppers-intention.csv')"
      ]
    },
    {
      "cell_type": "markdown",
      "metadata": {
        "id": "N9-LrP5isbx6"
      },
      "source": [
        "Leemos el csv:"
      ]
    },
    {
      "cell_type": "code",
      "execution_count": null,
      "metadata": {
        "id": "buf0Ukr2l2L7",
        "scrolled": true
      },
      "outputs": [],
      "source": [
        "df.sample(5)"
      ]
    },
    {
      "cell_type": "markdown",
      "metadata": {
        "id": "I6ej9BQxstT5"
      },
      "source": [
        "¿ Cuántas filas y columnas tiene el dataset ?"
      ]
    },
    {
      "cell_type": "code",
      "execution_count": null,
      "metadata": {
        "id": "iGqjfnKHsxSo"
      },
      "outputs": [],
      "source": [
        "n_filas = df.shape[0]\n",
        "n_columnas = df.shape[1]\n",
        "print(f\"num de filas: {n_filas}\")\n",
        "print(f\"num de columnas: {n_columnas}\")"
      ]
    },
    {
      "cell_type": "markdown",
      "metadata": {
        "id": "GhNqfMd1sdbm"
      },
      "source": [
        "## Valores nulos\n",
        "\n",
        "¿ Hay valores nulos en el dataset ?\n",
        "\n",
        "¿ Cuántos por cada columna ?"
      ]
    },
    {
      "cell_type": "code",
      "execution_count": null,
      "metadata": {
        "id": "fLxAFp_3sZDi"
      },
      "outputs": [],
      "source": [
        "df.isna().sum()"
      ]
    },
    {
      "cell_type": "markdown",
      "metadata": {
        "id": "uP8MUBxktI3L"
      },
      "source": [
        "En porcentajes:"
      ]
    },
    {
      "cell_type": "code",
      "execution_count": null,
      "metadata": {
        "id": "FPjo5BOZtNmg"
      },
      "outputs": [],
      "source": [
        "round(df.isna().mean() * 100, 2)"
      ]
    },
    {
      "cell_type": "markdown",
      "metadata": {
        "id": "eBFiz3o3s5H2"
      },
      "source": [
        "Tenemos valores nulos en varias columnas. En algunas el porcentaje es muy alto (80% en operating systems) y en otras muy bajo (1% en region).\n",
        "\n",
        "A simple vista:\n",
        "\n",
        "1) ¿Descartarían alguna columna por completo?\n",
        "\n",
        "2) ¿Descartarían las filas con nulos en alguna de las columnas?\n",
        "\n",
        "3) ¿En qué casos creen que conviene utilizar imputación univariante y en cuáles multivariante ?\n",
        "\n",
        "Vamos a analizar el dataset y buscar una respuesta a estas preguntas."
      ]
    },
    {
      "cell_type": "markdown",
      "metadata": {
        "id": "AswlXY8st6ZN"
      },
      "source": [
        "### Columna administrative\n",
        "\n",
        "Sabemos que la columna **administrative** que tiene 15% de valores nulos nos dice:\n",
        "\n",
        "*Número de veces que el usuario visito la sección \"administrative\"*\n",
        "\n",
        "Pero la columna **administrative_duration** está relacionada a la misma:\n",
        "\n",
        "*Tiempo que el usuario paso en la sección administrative*\n",
        "\n",
        "tiene 0 nulos.\n",
        "\n",
        "En este caso, al comprender el problema, podemos suponer que cuando  administrative duration tiene un valor > 0, la variable administrative debería ser almenos 1.\n",
        "\n",
        "Antes de utilizar esta condición para completar nulos en la columna, vamos a verificar que se cumpla la condición.\n",
        "\n",
        "¿ Existen casos en que Administrative_Duration sea mayor a 0 y Administrative igual a 0 ?\n"
      ]
    },
    {
      "cell_type": "code",
      "execution_count": null,
      "metadata": {
        "id": "EXDBfeYhsarc"
      },
      "outputs": [],
      "source": [
        "df[(df.Administrative_Duration > 0) & (df.Administrative == 0)].shape[0]"
      ]
    },
    {
      "cell_type": "markdown",
      "metadata": {
        "id": "nMzZubOrwUYq"
      },
      "source": [
        "Vemos que no hay casos, por lo tanto podemos asumir que cuando Administrative_Duration es > 0 entonces Administrative es 1.\n",
        "\n",
        "Ahora..\n",
        "\n",
        "¿ Qué pasa si Administrative_Duration es = 0 ?\n",
        "\n",
        "¿ Hay casos en que Administrative_Duration sea = 0 y Administrative = 1 ?"
      ]
    },
    {
      "cell_type": "code",
      "execution_count": null,
      "metadata": {
        "id": "TqP_z1eiv2jy"
      },
      "outputs": [],
      "source": [
        "df[(df.Administrative_Duration == 0) & (df.Administrative == 1)].shape[0]"
      ]
    },
    {
      "cell_type": "markdown",
      "metadata": {
        "id": "rpbM1z4NwvkW"
      },
      "source": [
        "Tenemos 78 casos. No parecen ser muchos.\n",
        "\n",
        "Ahora, ¿ cuántas veces sucede lo contrario ? (administrative duration == 0 y administrative == 0)"
      ]
    },
    {
      "cell_type": "code",
      "execution_count": null,
      "metadata": {
        "id": "NKNA6-29wqZj"
      },
      "outputs": [],
      "source": [
        "df[(df.Administrative_Duration == 0) & (df.Administrative == 0)].shape[0]"
      ]
    },
    {
      "cell_type": "markdown",
      "metadata": {
        "id": "eJil0NyPxY15"
      },
      "source": [
        "En la mayoría de los casos, si administrative_duration es = 0, administrative también lo es.\n",
        "\n",
        "Después de haber analizado el problema, decidimos:\n",
        "\n",
        "- Cuando administrative duration sea 0: Vamos a completar los nulos de Administrative con 0.\n",
        "\n",
        "- Cuando administrative duration sea > 0: Vamos a completar los nulos de administrative con 1.\n",
        "\n",
        "¿ Cómo hacemos esto en python ?"
      ]
    },
    {
      "cell_type": "code",
      "execution_count": null,
      "metadata": {
        "id": "YBOyWwO7xR1V"
      },
      "outputs": [],
      "source": [
        "# Mask\n",
        "condition_1 = df.Administrative_Duration == 0\n",
        "condition_2 = df.Administrative_Duration > 0\n",
        "\n",
        "df.loc[condition_1, 'Administrative'].head()"
      ]
    },
    {
      "cell_type": "code",
      "execution_count": null,
      "metadata": {
        "id": "Cli3DYMEy_A1"
      },
      "outputs": [],
      "source": [
        "df.loc[condition_2, 'Administrative'].head()"
      ]
    },
    {
      "cell_type": "markdown",
      "metadata": {
        "id": "OFByjsp3zHAG"
      },
      "source": [
        "Utilizamos las mascaras combinadas con el método .fillna() de pandas."
      ]
    },
    {
      "cell_type": "code",
      "execution_count": null,
      "metadata": {
        "id": "r5Ru8SPUzFaH"
      },
      "outputs": [],
      "source": [
        "df.loc[condition_1, 'Administrative'] = df.loc[condition_1, 'Administrative'].fillna(0) # Cuando la duracion es 0\n",
        "df.loc[condition_2, 'Administrative'] = df.loc[condition_2, 'Administrative'].fillna(1) # Cuando la duracion es > 0"
      ]
    },
    {
      "cell_type": "code",
      "execution_count": null,
      "metadata": {
        "id": "ZM0MFrPdzdH0"
      },
      "outputs": [],
      "source": [
        "df.Administrative.isna().sum()"
      ]
    },
    {
      "cell_type": "markdown",
      "metadata": {
        "id": "wK0HzAMxzf-y"
      },
      "source": [
        "Ahora la columna administrative no tiene más nulos. Los imputamos teniendo en cuenta el valor de otra columna (y entendiendo el problema)"
      ]
    },
    {
      "cell_type": "code",
      "source": [
        "df.mean()*100"
      ],
      "metadata": {
        "id": "FI56TcvuqZdZ"
      },
      "execution_count": null,
      "outputs": []
    },
    {
      "cell_type": "markdown",
      "metadata": {
        "id": "hoNeD1cuzm92"
      },
      "source": [
        "### Informational duration\n",
        "\n",
        "En esta columna tenemos un 30% de valores nulos.\n",
        "\n",
        "En la columna informational, no hay nulos. Esta columna nos puede llegar a servir para encontrar alguna condición como en el caso anterior. Sin embargo, a diferencia del caso anterior donde teniamos una variable \"booleana\", la columna informational duration es continua.\n",
        "\n",
        "En estos casos podemos utilizar estrategias como:\n",
        "- Completar con el valor más frecuente en la columna\n",
        "- Completar con la media de la columna\n",
        "- Completar con la mediana de la columna\n",
        "- Completar con un valor definido por nosotros\n",
        "\n",
        "Para esto vamos a utilizar el SimpleImputer de scikit learn. Funciona de una manera muy similar a .fillna() de pandas.\n",
        "\n",
        "Documentación: https://scikit-learn.org/stable/modules/generated/sklearn.impute.SimpleImputer.html#sklearn.impute.SimpleImputer\n",
        "\n",
        "Algo que debemos tener en cuenta, es que cuando la variable informational es = 0, la variable informational duration debería tambien ser 0. (similar al caso anterior).\n",
        "\n",
        "Podemos completar los nulos de la misma forma que el caso anterior cuando se cumpla esta condición. En el resto de los casos (cuando informational sea 1), utilizaremos el SimpleImputer de scikitlearn."
      ]
    },
    {
      "cell_type": "code",
      "execution_count": null,
      "metadata": {
        "id": "Hk3xLm0ZzfSf"
      },
      "outputs": [],
      "source": [
        "# Mask\n",
        "informational_0 = df.Informational == 0\n",
        "informational_1 = df.Informational == 1"
      ]
    },
    {
      "cell_type": "code",
      "execution_count": null,
      "metadata": {
        "id": "CS28MDk11Rt_"
      },
      "outputs": [],
      "source": [
        "df.loc[informational_0, 'Informational_Duration'] = df.loc[informational_0, 'Informational_Duration'].fillna(0) # Cuando la columna informational es 0, le asignamos una duración 0"
      ]
    },
    {
      "cell_type": "code",
      "execution_count": null,
      "metadata": {
        "id": "jw4sF8hy2crt"
      },
      "outputs": [],
      "source": [
        "df.Informational_Duration.isna().sum()"
      ]
    },
    {
      "cell_type": "markdown",
      "metadata": {
        "id": "CobkZGRN2qBw"
      },
      "source": [
        "Quedan solo 551 valores nulos en la columna."
      ]
    },
    {
      "cell_type": "markdown",
      "metadata": {
        "id": "h2zbl-lT1bQ9"
      },
      "source": [
        "Ahora, ¿Cómo utilizamos el SimpleImputer en el resto de los casos?\n",
        "\n",
        "Si vemos la documentación, la clase SimpleImputer tiene los parámetros:\n",
        "\n",
        "- missing_values\n",
        "- strategy\n",
        "- fill_value\n",
        "- verbose\n",
        "- copy\n",
        "- add_indicator\n",
        "\n",
        "Antes de arrancar a utilizarlo, leamos la documentación y entendamos para que sirve cada uno de estos parámetros, que tipo de datos podemos pasarle y distingamos cuáles son obligatorios y cuáles no.\n",
        "\n",
        "\n",
        "Una vez que entendimos esto, creamos nuestro objeto SimpleImputer. Para esto primero que nada, debemos importarlo:"
      ]
    },
    {
      "cell_type": "code",
      "execution_count": null,
      "metadata": {
        "id": "w38vECj52UXC"
      },
      "outputs": [],
      "source": [
        "from sklearn.impute import SimpleImputer"
      ]
    },
    {
      "cell_type": "markdown",
      "metadata": {
        "id": "ruEshOyu3FRc"
      },
      "source": [
        "Como vimos en sklearn se suelen seguir 3 pasos: crear el objeto, fit y transform.\n",
        "\n",
        "Paso 1: Creamos el objeto.\n",
        "\n",
        "Un parametro que tenemos que pasar, es la estrategia. Debemos decidir cual utilizar. Veamos la distribución de la variable en los casos en que informational es = 1"
      ]
    },
    {
      "cell_type": "code",
      "execution_count": null,
      "metadata": {
        "id": "NaDVtVbf42JP"
      },
      "outputs": [],
      "source": [
        "fig = plt.figure(figsize=(8,4))\n",
        "sns.distplot(df[informational_1].Informational_Duration)\n",
        "plt.title(\"Distribución de la variable informational duration cuando Informational = 1\")\n",
        "plt.show()"
      ]
    },
    {
      "cell_type": "code",
      "execution_count": null,
      "metadata": {
        "id": "ITxM4Kfr5vtx"
      },
      "outputs": [],
      "source": [
        "df[informational_1].Informational_Duration.mean()"
      ]
    },
    {
      "cell_type": "code",
      "execution_count": null,
      "metadata": {
        "id": "oB5ihzqj5w3R"
      },
      "outputs": [],
      "source": [
        "df[informational_1].Informational_Duration.median()"
      ]
    },
    {
      "cell_type": "markdown",
      "metadata": {
        "id": "NHXY3H7y7Znv"
      },
      "source": [
        "Cuando tenemos una distribución \"normal\" utilizar la media o mediana para completar nulos no nos va a cambiar mucho.\n",
        "\n",
        "En distribuciones con una cola larga como esta que vemos, suele ser mejor utilizar la mediana ya que la media esta sesgada por los valores extremos.\n",
        "\n",
        "Por lo tanto, vamos a utilizar la mediana."
      ]
    },
    {
      "cell_type": "code",
      "execution_count": null,
      "metadata": {
        "id": "cISSftON1af-"
      },
      "outputs": [],
      "source": [
        "my_simple_imputer = SimpleImputer(missing_values=np.nan, strategy='median') # Este imputer considera nulos a los np.nan y utiliza la mediana para rellenar"
      ]
    },
    {
      "cell_type": "markdown",
      "metadata": {
        "id": "syz92Zi13LRM"
      },
      "source": [
        "Paso 2:\n"
      ]
    },
    {
      "cell_type": "code",
      "execution_count": null,
      "metadata": {
        "id": "j8VS2xEg2w1K"
      },
      "outputs": [],
      "source": [
        "my_simple_imputer.fit(df[['Informational_Duration']])"
      ]
    },
    {
      "cell_type": "markdown",
      "metadata": {
        "id": "1hb5KoBt3MWy"
      },
      "source": [
        "Paso 3:\n"
      ]
    },
    {
      "cell_type": "code",
      "execution_count": null,
      "metadata": {
        "id": "Ry5oXBuC3MdD"
      },
      "outputs": [],
      "source": [
        "df['Informational_Duration'] = my_simple_imputer.transform(df[['Informational_Duration']])"
      ]
    },
    {
      "cell_type": "code",
      "execution_count": null,
      "metadata": {
        "id": "B7FVpiml3eeC"
      },
      "outputs": [],
      "source": [
        "df.Informational_Duration.isna().sum()"
      ]
    },
    {
      "cell_type": "markdown",
      "metadata": {
        "id": "7XJcGDvz3tB7"
      },
      "source": [
        "Ahora ya completamos todos los nulos en esta columna también, pero quedan varias más.\n",
        "\n",
        "\n",
        "# Ejercicio\n",
        "\n",
        "1) Investigar fit_transform e implementarlo en el caso anterior (Informational_Duration).\n",
        "\n",
        "2) Con lo que vimos hasta ahora, analizar las variables y decidir estrategias para completar nulos / descartar filas o columnas en cada caso.\n",
        "\n",
        "Al finalizar, no debe haber ninguna fila con valores nulos."
      ]
    },
    {
      "cell_type": "code",
      "execution_count": null,
      "metadata": {
        "id": "xx-UYRuu3pFo"
      },
      "outputs": [],
      "source": [
        "df.isna().sum()"
      ]
    }
  ],
  "metadata": {
    "colab": {
      "provenance": []
    },
    "kernelspec": {
      "display_name": "Python 3 (ipykernel)",
      "language": "python",
      "name": "python3"
    },
    "language_info": {
      "codemirror_mode": {
        "name": "ipython",
        "version": 3
      },
      "file_extension": ".py",
      "mimetype": "text/x-python",
      "name": "python",
      "nbconvert_exporter": "python",
      "pygments_lexer": "ipython3",
      "version": "3.8.13"
    }
  },
  "nbformat": 4,
  "nbformat_minor": 0
}