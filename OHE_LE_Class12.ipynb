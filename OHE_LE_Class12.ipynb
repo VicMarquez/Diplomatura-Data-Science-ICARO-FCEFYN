{
 "cells": [
  {
   "cell_type": "markdown",
   "metadata": {
    "id": "uGqd4WF7RgSB"
   },
   "source": [
    "# Variables categóricas\n",
    "\n",
    "En esta clase vamos a ver como utilizar pandas y scikit learn para transformar variables categóricas en algo que los modelos de machine learning puedan entender.\n",
    "\n",
    "Vamos a utilizar un dataset armado a mano y bastante simple para aprender a utilizar scikit learn y pandas.\n",
    "\n",
    "Luego, tendrán que aplicar lo aprendido sobre el dataset de la clase pasada (ecommerce)."
   ]
  },
  {
   "cell_type": "code",
   "execution_count": null,
   "metadata": {
    "colab": {
     "base_uri": "https://localhost:8080/",
     "height": 528
    },
    "id": "Sg6aAB0oHSCh",
    "outputId": "75f5a410-8848-4c62-e1e3-4231ad5b56d8"
   },
   "outputs": [],
   "source": [
    "#from google.colab import drive # La usamos para montar nuestra unidad de Google Drive\n",
    "#drive.mount('/content/drive') # Montamos nuestra unidad de Google Drive"
   ]
  },
  {
   "cell_type": "code",
   "execution_count": null,
   "metadata": {
    "id": "DMZlzvmGTumU"
   },
   "outputs": [],
   "source": [
    "import pandas as pd\n",
    "import numpy as np\n",
    "import matplotlib.pyplot as plt\n",
    "import seaborn as sns"
   ]
  },
  {
   "cell_type": "code",
   "execution_count": null,
   "metadata": {
    "id": "npsckmOZT_-a"
   },
   "outputs": [],
   "source": [
    "data = {'Temperature': ['Hot', 'Cold', 'Very Hot', 'Warm', 'Hot', 'Warm', 'Warm', 'Hot', 'Hot', 'Cold'],\n",
    "        'Color': ['Red', 'Yellow','Blue', 'Blue', 'Red', 'Yellow', 'Red', 'Yellow', 'Yellow', 'Blue']}\n",
    "\n",
    "df = pd.DataFrame(data)"
   ]
  },
  {
   "cell_type": "code",
   "execution_count": null,
   "metadata": {
    "colab": {
     "base_uri": "https://localhost:8080/",
     "height": 359
    },
    "id": "OdevnbQEVLEE",
    "outputId": "3f37f67b-0679-4730-99c9-a467efe4654e"
   },
   "outputs": [],
   "source": [
    "df.Color.nunique()"
   ]
  },
  {
   "cell_type": "markdown",
   "metadata": {
    "id": "qRwUif9lUDm-"
   },
   "source": [
    "## One hot encoding\n",
    "\n",
    "En este simple caso, vemos que la variable Temperature puede ser considerada ordinal porque la temperatura va desde cold hasta very hot.\n",
    "\n",
    "Por otro lado, en la variable color no vemos ningún orden, no podemos considerarla ordinal.\n",
    "\n",
    "Vamos a aplicar one hot encoding en la variable color.\n",
    "\n",
    "Esto se puede hacer con pandas o con el OneHotEncoder de scikit learn.\n",
    "\n",
    "Comencemos con pandas.\n",
    "\n",
    "Pandas nos brinda la funcion get_dummies():"
   ]
  },
  {
   "cell_type": "code",
   "execution_count": null,
   "metadata": {
    "colab": {
     "base_uri": "https://localhost:8080/",
     "height": 359
    },
    "id": "WVmcJRWwUFHf",
    "outputId": "c0ddae99-c552-470e-d1db-3bb1fa686871"
   },
   "outputs": [],
   "source": [
    "pd.get_dummies(df.Color)"
   ]
  },
  {
   "cell_type": "markdown",
   "metadata": {
    "id": "pYFKc2jMVsjc"
   },
   "source": [
    "¿ Cómo agregamos estas columnas a nuestro dataset ?\n",
    "\n",
    "Podemos concatenar horizontalmente este dataset de variables dummies a el original:\n",
    "\n",
    "La próxima clase veremos en más detalle los métodos concat, merge, etcétera."
   ]
  },
  {
   "cell_type": "code",
   "execution_count": null,
   "metadata": {
    "colab": {
     "base_uri": "https://localhost:8080/",
     "height": 359
    },
    "id": "I9LYRwWsVlxh",
    "outputId": "a2a04725-de75-4947-b0c4-924750d2642d"
   },
   "outputs": [],
   "source": [
    "dummies = pd.get_dummies(df.Color) # Obtenemos dummies\n",
    "df_encoded = pd.concat([df, dummies], axis=1) # Concatenamos horizontalmente con axis=1\n",
    "\n",
    "df_encoded"
   ]
  },
  {
   "cell_type": "markdown",
   "metadata": {
    "id": "Em2nedKXWApk"
   },
   "source": [
    "Ahora podemos eliminar la columna original"
   ]
  },
  {
   "cell_type": "code",
   "execution_count": null,
   "metadata": {
    "id": "IeYQiasfV_g1"
   },
   "outputs": [],
   "source": [
    "df_encoded = df_encoded.drop('Color', axis=1)"
   ]
  },
  {
   "cell_type": "code",
   "execution_count": null,
   "metadata": {
    "colab": {
     "base_uri": "https://localhost:8080/",
     "height": 359
    },
    "id": "ZTeC8zkyWEQG",
    "outputId": "92923fc6-3dee-45df-c4a4-37c1f18cb8ed"
   },
   "outputs": [],
   "source": [
    "df_encoded"
   ]
  },
  {
   "cell_type": "markdown",
   "metadata": {
    "id": "B44n6WehYfTb"
   },
   "source": [
    "¿ Cómo hacemos lo mismo con scikit learn ?\n",
    "\n",
    "Tenemos el OneHotEncoder en el módulo de preprocessing:\n",
    "\n",
    "https://scikit-learn.org/stable/modules/generated/sklearn.preprocessing.OneHotEncoder.html#sklearn.preprocessing.OneHotEncoder\n",
    "\n"
   ]
  },
  {
   "cell_type": "code",
   "execution_count": null,
   "metadata": {
    "id": "DsWcSDydYe5i"
   },
   "outputs": [],
   "source": [
    "from sklearn.preprocessing import OneHotEncoder"
   ]
  },
  {
   "cell_type": "code",
   "execution_count": null,
   "metadata": {
    "id": "5cLJ-4okYtoZ"
   },
   "outputs": [],
   "source": [
    "enc = OneHotEncoder(handle_unknown='ignore', sparse=False)"
   ]
  },
  {
   "cell_type": "code",
   "execution_count": null,
   "metadata": {},
   "outputs": [],
   "source": [
    "# handle_unknow: si se encuentra con una categoria desconocida entonces completa todas las columnas con 0's\n",
    "# sparse matrix ??? que nos dice? para que se usa?\n",
    "# sparse bool, default=True Will return sparse matrix if set True else will return an array."
   ]
  },
  {
   "cell_type": "markdown",
   "metadata": {
    "id": "Jl9-3OXZY0SX"
   },
   "source": [
    "Averiguar en la documentación: \n",
    "- ¿ Qué significa el `handle_unknown='ignore'` ?\n",
    "- Que es \"sparse\" ?\n",
    "- Que sucede si ponemos sparse = True?\n",
    "\n",
    "Hacemos fit:"
   ]
  },
  {
   "cell_type": "code",
   "execution_count": null,
   "metadata": {
    "colab": {
     "base_uri": "https://localhost:8080/"
    },
    "id": "2VhBGf1aYtqt",
    "outputId": "36ecf1b2-d24f-4ca8-fea5-046b45e2a68c",
    "scrolled": true
   },
   "outputs": [],
   "source": [
    "enc.fit(df.Color.values.reshape(-1,1))"
   ]
  },
  {
   "cell_type": "code",
   "execution_count": null,
   "metadata": {},
   "outputs": [],
   "source": [
    "df.Color.values.reshape(-1,1)"
   ]
  },
  {
   "cell_type": "markdown",
   "metadata": {
    "id": "R1PCTJgrZQGh"
   },
   "source": [
    "- ¿ Qué pasa si sacamos el .reshape(-1, 1) ? -----> se rompe\n",
    "\n",
    "- ¿ Qué otra forma se les ocurre para solucionar el error sin usar reshape ?"
   ]
  },
  {
   "cell_type": "code",
   "execution_count": null,
   "metadata": {
    "colab": {
     "base_uri": "https://localhost:8080/"
    },
    "id": "rdJwgyn0ZUhg",
    "outputId": "c38f3783-d3a9-4ea1-b240-e1f406748dad"
   },
   "outputs": [],
   "source": [
    "encoded_color = enc.transform(df.Color.values.reshape(-1, 1))\n",
    "encoded_color"
   ]
  },
  {
   "cell_type": "markdown",
   "metadata": {
    "id": "Jr5pBBvcZzh9"
   },
   "source": [
    "Ahora, como agregamos esto a nuestro dataframe?\n",
    "\n",
    "El método get_feature_names nos da los nombres de las nuevas features creadas:"
   ]
  },
  {
   "cell_type": "code",
   "execution_count": null,
   "metadata": {
    "colab": {
     "base_uri": "https://localhost:8080/"
    },
    "id": "i9GKkD2wYts7",
    "outputId": "6ef59b3e-4676-404e-9fd6-ed3c8a22d3a5"
   },
   "outputs": [],
   "source": [
    "enc.get_feature_names(['Colores'])"
   ]
  },
  {
   "cell_type": "code",
   "execution_count": null,
   "metadata": {
    "id": "2ep0-FUnaAGm"
   },
   "outputs": [],
   "source": [
    "encoded_color_columns = enc.get_feature_names(['Colores'])"
   ]
  },
  {
   "cell_type": "code",
   "execution_count": null,
   "metadata": {
    "colab": {
     "base_uri": "https://localhost:8080/",
     "height": 359
    },
    "id": "QC7wFsWRaAMn",
    "outputId": "4cae6291-83b0-4bd9-e952-9366cb3851ae"
   },
   "outputs": [],
   "source": [
    "encoded_color_df = pd.DataFrame(data=encoded_color, columns= encoded_color_columns)\n",
    "encoded_color_df"
   ]
  },
  {
   "cell_type": "markdown",
   "metadata": {
    "id": "Ks8M5eK1aTLL"
   },
   "source": [
    "Ahora, como hicimos antes, podemos concatenar y eliminar la columna original:"
   ]
  },
  {
   "cell_type": "code",
   "execution_count": null,
   "metadata": {
    "colab": {
     "base_uri": "https://localhost:8080/",
     "height": 359
    },
    "id": "GSpECBMQaStw",
    "outputId": "a88fd198-9ba0-40b8-e770-23e77830898e"
   },
   "outputs": [],
   "source": [
    "pd.concat([df, encoded_color_df], axis=1).drop('Color', axis=1)"
   ]
  },
  {
   "cell_type": "markdown",
   "metadata": {
    "id": "_Q6NhdDPabf0"
   },
   "source": [
    "Muchas veces, en lugar de crear todas las columnas, se utiliza el atributo `drop='first'`.\n",
    "\n",
    "Esto crea todas las columnas menos la primera (en nuestro caso no se crearía color_blue), esto es porque si ninguna de las otras es 1, significa que blue es 1. Sirve para ahorrarnos una columna.\n",
    "\n",
    "En el caso de variables binarias, podemos crear una única columna utilizando:\n",
    "\n",
    "`drop='if_binary'`"
   ]
  },
  {
   "cell_type": "markdown",
   "metadata": {
    "id": "e8ix-z6mWFVY"
   },
   "source": [
    "## Label encoder\n",
    "\n",
    "Se utiliza de una forma muy similar a el OneHotEncoder de scikit learn."
   ]
  },
  {
   "cell_type": "code",
   "execution_count": null,
   "metadata": {
    "colab": {
     "base_uri": "https://localhost:8080/",
     "height": 359
    },
    "id": "wjij-SQVWEn1",
    "outputId": "5eb02b49-208f-4fb8-91ac-63c525dfadb8"
   },
   "outputs": [],
   "source": [
    "from sklearn import preprocessing\n",
    "le = preprocessing.LabelEncoder() #creo el objeto\n",
    "\n",
    "df['Temperature_label_encoded'] = le.fit_transform(df.Temperature)\n",
    "df"
   ]
  },
  {
   "cell_type": "markdown",
   "metadata": {
    "id": "IuYEuTYTbXTk"
   },
   "source": [
    "No se utiliza para datos ordinales ya que scikit learn le asigna un valor numérico pero sin tener en cuenta que nosotros queremos que cold sea menor que hot.\n",
    "\n",
    "Cuando queremos especificar nosotros los valores numéricos para cada valor de la variable categórica, podemos utilizar la función .replace() de pandas.\n",
    "\n",
    "Esta función recibe un diccionario en el que la key tiene que ser el valor que queremos transformar y el value el valor resultante que queremos.\n",
    "\n",
    "Veamos un ejemplo:"
   ]
  },
  {
   "cell_type": "code",
   "execution_count": null,
   "metadata": {
    "colab": {
     "base_uri": "https://localhost:8080/"
    },
    "id": "X_RjAXRPbuwT",
    "outputId": "2bec24e1-48cb-44c4-b871-0aa0b9ab12d0"
   },
   "outputs": [],
   "source": [
    "df.Temperature.unique()"
   ]
  },
  {
   "cell_type": "code",
   "execution_count": null,
   "metadata": {
    "colab": {
     "base_uri": "https://localhost:8080/"
    },
    "id": "anlCXv0_bVgt",
    "outputId": "e07ea64e-585b-4d02-a469-51264a00fa11"
   },
   "outputs": [],
   "source": [
    "mapping_dict = {\n",
    "    'Cold': 1,\n",
    "    'Warm': 2,\n",
    "    'Hot': 3,\n",
    "    'Very Hot': 4\n",
    "}\n",
    "\n",
    "temperature_ordinal = df.Temperature.replace(mapping_dict)\n",
    "temperature_ordinal"
   ]
  },
  {
   "cell_type": "code",
   "execution_count": null,
   "metadata": {
    "colab": {
     "base_uri": "https://localhost:8080/",
     "height": 359
    },
    "id": "wjDcSwBOb5Ml",
    "outputId": "4b6beae0-fdb3-4e6b-f0a6-aa0cebcfd252"
   },
   "outputs": [],
   "source": [
    "df['Temperature_ordinal'] = temperature_ordinal\n",
    "df"
   ]
  },
  {
   "cell_type": "code",
   "execution_count": null,
   "metadata": {},
   "outputs": [],
   "source": [
    "df.drop('Temperature_label_encoded', axis=1, inplace=True)"
   ]
  },
  {
   "cell_type": "code",
   "execution_count": null,
   "metadata": {},
   "outputs": [],
   "source": [
    "df"
   ]
  },
  {
   "cell_type": "markdown",
   "metadata": {
    "id": "VlJlEuy0cEig"
   },
   "source": [
    "# Discretización\n",
    "\n",
    "Vamos a ver como hacerlo con sklearn. Para este caso vamos a utilizar otro dataset con una variable continua:"
   ]
  },
  {
   "cell_type": "markdown",
   "metadata": {
    "id": "mFJVX9vbgkKC"
   },
   "source": [
    "Creamos el dataset:"
   ]
  },
  {
   "cell_type": "code",
   "execution_count": null,
   "metadata": {
    "id": "P-SKDz02glcV"
   },
   "outputs": [],
   "source": [
    "variable_continua = np.arange(200)\n",
    "df_cont = pd.DataFrame({'X': variable_continua})"
   ]
  },
  {
   "cell_type": "code",
   "execution_count": null,
   "metadata": {
    "colab": {
     "base_uri": "https://localhost:8080/",
     "height": 204
    },
    "id": "7aXIGK31gtEN",
    "outputId": "bd5dd113-3329-4440-9159-31a27e646560"
   },
   "outputs": [],
   "source": [
    "df_cont.head()"
   ]
  },
  {
   "cell_type": "markdown",
   "metadata": {
    "id": "u01hbNoHgvu1"
   },
   "source": [
    "Aplicamos KBinsDiscretizer.\n",
    "\n",
    "Tenemos que pasarle la cantidad de bins, encode y strategy.\n",
    "\n",
    "Averiguar que significan estos parametros:\n",
    "\n",
    "https://scikit-learn.org/stable/modules/generated/sklearn.preprocessing.KBinsDiscretizer.html"
   ]
  },
  {
   "cell_type": "code",
   "execution_count": null,
   "metadata": {
    "id": "LL3BQnyPb_Nx"
   },
   "outputs": [],
   "source": [
    "from sklearn.preprocessing import KBinsDiscretizer\n",
    "est = KBinsDiscretizer(n_bins=5, encode='ordinal', strategy = 'uniform')"
   ]
  },
  {
   "cell_type": "code",
   "execution_count": null,
   "metadata": {},
   "outputs": [],
   "source": [
    "# n_bins: cantidad de \"cajas\"(bines) en donde guardo mis datos\n",
    "# encode: metodo usado para la transformación --- ‘onehot’ (nos devuelva sparse matrix) , ‘onehot-dense’ dense array , 'ordinal' te devuelve el  \"bin identifier encoded\"\n",
    "# strategy:‘uniform’ todos los bines tinene el mismo ancho\n",
    "#          :‘quantile’ todos los bines tienen la misma cant de datos\n",
    "#          :'Values' in each bin have the same nearest center of a 1D k-means cluster."
   ]
  },
  {
   "cell_type": "markdown",
   "metadata": {
    "id": "2C6M_KbchLup"
   },
   "source": [
    "En scikit learn siempre estuvimos aplicando el método fit y transform por separado. Scikit lern nos permite aplicar los dos en una linea con el método fit_transform:"
   ]
  },
  {
   "cell_type": "code",
   "execution_count": null,
   "metadata": {
    "id": "uzAMEra-hJqD"
   },
   "outputs": [],
   "source": [
    "df_cont['discretized'] = est.fit_transform(df_cont[['X']]) # Acá en lugar de hacer reshape(-1, 1) utilizamos doble [[]]"
   ]
  },
  {
   "cell_type": "code",
   "execution_count": null,
   "metadata": {
    "colab": {
     "base_uri": "https://localhost:8080/",
     "height": 419
    },
    "id": "rF_fl0PFhYzS",
    "outputId": "f7a589c7-b472-4c70-8983-3dc7f9c46e04",
    "scrolled": false
   },
   "outputs": [],
   "source": [
    "est.fit_transform(df_cont[['X']])"
   ]
  },
  {
   "cell_type": "code",
   "execution_count": null,
   "metadata": {},
   "outputs": [],
   "source": [
    "df_cont"
   ]
  },
  {
   "cell_type": "code",
   "execution_count": null,
   "metadata": {
    "colab": {
     "base_uri": "https://localhost:8080/"
    },
    "id": "0cRdyEWIhfuu",
    "outputId": "8d255071-9ddd-47bd-b3cf-d40f2ba8f467"
   },
   "outputs": [],
   "source": [
    "df_cont.discretized.value_counts()"
   ]
  },
  {
   "cell_type": "markdown",
   "metadata": {
    "id": "m1vFyDgGh0U2"
   },
   "source": [
    "# Ejercicio\n",
    "\n",
    "Vamos a levantar el dataset de la clase pasada (esta vez sin nulos) y transformar las variables categóricas.\n",
    "\n",
    "Tienen que utilizar su criterio para decidir cuando conviene ordinal, one hot, etc.\n",
    "\n",
    "Recuerden que las columnas del dataset son:\n",
    "\n",
    "\n",
    "- id: Id del usuario \n",
    "- administrative: Número de veces que el usuario visito la sección \"administrative\"\n",
    "- administrative_duration: Tiempo que el usuario paso en la sección administrative\n",
    "- informational: Número de veces que el usuario visitó la sección \"informational\"\n",
    "- informational_duration: Tiempo que el usuario paso en la sección informational\n",
    "- productrelated: Número de veces que el usuario visitó la sección \"products related\"\n",
    "- productrelated_duration: Tiempo que el usuario pasó en la sección \n",
    "- bouncerates: Porcentaje de visitantes que entran a la página e inmediatamente la dejan sin interactuar con la misma. Esta metrica solo se tiene en cuenta si es la primer página que se visitó del sitio web.\n",
    "- exitrates: De la cantidad total de visitas a las páginas del sitio web, el porcentage de usuarios que lo abandonaron en esta página. Esto es, el  porcentaje de usuarios que su última visita al sitio fué en esta página.\n",
    "- pagevalues: Este es el valor promedio del sitio web, indica la contribución que este sitio web hizo al visitante que llega a la página o sección de compra final.\n",
    "-  specialday: Es una fecha especial o no (1 o 0)\n",
    "- operatingsystems: Sistema operativo\n",
    "- browser: Nombre del navegador\n",
    "- region: Region geográfica del usuario\n",
    "- traffictype: Tipo de tráfico web\n",
    "- visitortype: Nuevo o uno que retorno al sitio\n",
    "- Weekend: 1 si es fin de semana y 0 en otro caso\n",
    "- revenue: 1 si el usuario hizo una compra y 0 en otro caso"
   ]
  },
  {
   "cell_type": "code",
   "execution_count": null,
   "metadata": {
    "id": "bYurF0m_hjQr"
   },
   "outputs": [],
   "source": [
    "df = pd.read_csv('drive/MyDrive/ICARO/Curso DS/Clases/Clase 11/online-shoppers-intention-sin-nulos.csv')"
   ]
  },
  {
   "cell_type": "code",
   "execution_count": null,
   "metadata": {
    "colab": {
     "base_uri": "https://localhost:8080/",
     "height": 224
    },
    "id": "jJQVxvwZiax7",
    "outputId": "7ae25170-f146-4a97-a292-0ba5b65876e3"
   },
   "outputs": [],
   "source": [
    "df.head()"
   ]
  },
  {
   "cell_type": "markdown",
   "metadata": {
    "id": "bWMC3-hiicf4"
   },
   "source": [
    "Transformar las variables:\n",
    "\n",
    "- Month\n",
    "- Visitor type\n",
    "- weekend\n",
    "\n",
    "Con los métodos que aprendimos.\n",
    "\n",
    "Discretizar:\n",
    "- ExitRates\n",
    "- BounceRates\n",
    "\n",
    "\n",
    "Investigar:\n",
    "\n",
    "- ¿Cómo puedo saber desde que valor hasta que valor van cada uno de los \"bins\" en KBinsDiscretizer? (buscar los atributos del discretizer en la documentación)\n",
    "- ¿ Qué pasa si en lugar de usar encode=\"ordinal\" uso encode=‘onehot’ o ‘onehot-dense’?\n",
    "- ¿Cuál es la diferencia entre strategy=‘uniform’ y strategy=‘quantile’ ?"
   ]
  }
 ],
 "metadata": {
  "colab": {
   "name": "Variables categóricas.ipynb",
   "provenance": []
  },
  "kernelspec": {
   "display_name": "Python 3 (ipykernel)",
   "language": "python",
   "name": "python3"
  },
  "language_info": {
   "codemirror_mode": {
    "name": "ipython",
    "version": 3
   },
   "file_extension": ".py",
   "mimetype": "text/x-python",
   "name": "python",
   "nbconvert_exporter": "python",
   "pygments_lexer": "ipython3",
   "version": "3.8.13"
  },
  "vscode": {
   "interpreter": {
    "hash": "892d461b55a6ce994a56bafd67ae2f3489d9f23234c096cfb51dfe498c166e4b"
   }
  }
 },
 "nbformat": 4,
 "nbformat_minor": 1
}
