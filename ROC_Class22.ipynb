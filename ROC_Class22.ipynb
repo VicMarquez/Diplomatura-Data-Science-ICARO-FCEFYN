{
  "cells": [
    {
      "cell_type": "markdown",
      "metadata": {
        "id": "Ml8h_4Kf7z8C"
      },
      "source": [
        "# Area bajo la curva ROC\n",
        "\n",
        "Vamos a basarnos en un ejemplo de la documentación de sklearn: https://scikit-learn.org/stable/auto_examples/model_selection/plot_roc.html"
      ]
    },
    {
      "cell_type": "code",
      "execution_count": null,
      "metadata": {
        "id": "K3C6d8Ga7yO9"
      },
      "outputs": [],
      "source": [
        "import numpy as np\n",
        "import matplotlib.pyplot as plt\n",
        "from itertools import cycle\n",
        "from sklearn import datasets\n",
        "from sklearn.metrics import roc_curve, auc\n",
        "from sklearn.model_selection import train_test_split\n",
        "from sklearn.preprocessing import label_binarize\n",
        "from sklearn.multiclass import OneVsRestClassifier\n",
        "from sklearn.metrics import roc_auc_score\n",
        "from sklearn.neighbors import KNeighborsClassifier"
      ]
    },
    {
      "cell_type": "code",
      "execution_count": null,
      "metadata": {
        "id": "7mwLLJpl-zAV"
      },
      "outputs": [],
      "source": [
        "# Import some data to play with\n",
        "iris = datasets.load_iris()\n",
        "X = iris.data\n",
        "y = iris.target\n",
        "print(y)"
      ]
    },
    {
      "cell_type": "code",
      "execution_count": null,
      "metadata": {
        "id": "43FzYVH8-9TQ"
      },
      "outputs": [],
      "source": [
        "# shuffle and split training and test sets\n",
        "X_train, X_test, y_train, y_test = train_test_split(X, y, test_size=.5, random_state=0)"
      ]
    },
    {
      "cell_type": "code",
      "execution_count": null,
      "metadata": {
        "id": "xXNGmiwt--eS"
      },
      "outputs": [],
      "source": [
        "y_test[:5]"
      ]
    },
    {
      "cell_type": "markdown",
      "metadata": {
        "id": "tFlctaxI_Bt1"
      },
      "source": [
        "En la siguiente celda aplicamos un one hot enconding a el target con label_binarize."
      ]
    },
    {
      "cell_type": "code",
      "execution_count": null,
      "metadata": {
        "id": "u3pU8vBo-_nU"
      },
      "outputs": [],
      "source": [
        "y_test = label_binarize(y_test, classes=[0, 1, 2])\n",
        "n_classes = y_test.shape[1]\n",
        "print(y_test[:5])"
      ]
    },
    {
      "cell_type": "code",
      "execution_count": null,
      "metadata": {
        "id": "wiwPp3oWd2WG"
      },
      "outputs": [],
      "source": [
        "n_classes"
      ]
    },
    {
      "cell_type": "markdown",
      "metadata": {
        "id": "M3RNVHcy_MUp"
      },
      "source": [
        "Prestar atención en la siguiente celda:\n",
        "\n",
        "En lugar de utilizar predict, utilizamos predict_proba que nos retorna una probabilidad por cada clase."
      ]
    },
    {
      "cell_type": "code",
      "execution_count": null,
      "metadata": {
        "id": "mg3maQy1_BFx"
      },
      "outputs": [],
      "source": [
        "# Learn to predict each class\n",
        "classifier = KNeighborsClassifier(n_neighbors=50)\n",
        "classifier.fit(X_train, y_train)\n",
        "y_score = classifier.predict_proba(X_test)\n",
        "print(y_score[:5])"
      ]
    },
    {
      "cell_type": "markdown",
      "metadata": {
        "id": "nYSjM1HQ_Xu3"
      },
      "source": [
        "Por cada clase, calculamos la curva ROC"
      ]
    },
    {
      "cell_type": "code",
      "execution_count": null,
      "metadata": {
        "id": "9o7_d8QA_LMl"
      },
      "outputs": [],
      "source": [
        "# Compute ROC curve and ROC area for each class\n",
        "fpr = dict()\n",
        "tpr = dict()\n",
        "roc_auc = dict()\n",
        "for i in range(n_classes):\n",
        "    fpr[i], tpr[i], _ = roc_curve(y_test[:, i], y_score[:, i],)\n",
        "    roc_auc[i] = auc(fpr[i], tpr[i])"
      ]
    },
    {
      "cell_type": "code",
      "execution_count": null,
      "metadata": {
        "id": "X2xml4s8d2WH"
      },
      "outputs": [],
      "source": [
        "fpr"
      ]
    },
    {
      "cell_type": "code",
      "execution_count": null,
      "metadata": {
        "id": "CMQens-H_wJs"
      },
      "outputs": [],
      "source": [
        "for i in range(n_classes):\n",
        "    plt.figure(figsize=(10,5))\n",
        "    plt.plot(fpr[i], tpr[i],'o--', label='ROC curve (area = %0.2f)' % roc_auc[i])\n",
        "    plt.plot([0, 1], [0, 1], 'k--')\n",
        "    plt.xlim([0.0, 1.0])\n",
        "    plt.ylim([0.0, 1.05])\n",
        "    plt.xlabel('False Positive Rate')\n",
        "    plt.ylabel('True Positive Rate')\n",
        "    plt.title('Curva ROC: Clase ' + str(i))\n",
        "    plt.legend(loc=\"lower right\")\n",
        "    plt.show()"
      ]
    },
    {
      "cell_type": "markdown",
      "metadata": {
        "id": "MM7T1dRh_7A-"
      },
      "source": [
        "# Ejercicio\n",
        "\n",
        "Por grupo buscar un dataset de clasificación binario, entrenar un modelo y graficar la curva ROC.\n",
        "\n",
        "Algunos datasets pueden ser:\n",
        "- Titanic\n",
        "- NBA (clase 19)\n",
        "- Breast Cancer Wisconsin\n",
        "- Heart disease https://www.kaggle.com/ronitf/heart-disease-uci\n",
        "\n",
        "Luego haremos una puesta en comùn entre todos"
      ]
    }
  ],
  "metadata": {
    "colab": {
      "provenance": []
    },
    "kernelspec": {
      "display_name": "Python 3.8.13 ('base')",
      "language": "python",
      "name": "python3"
    },
    "language_info": {
      "codemirror_mode": {
        "name": "ipython",
        "version": 3
      },
      "file_extension": ".py",
      "mimetype": "text/x-python",
      "name": "python",
      "nbconvert_exporter": "python",
      "pygments_lexer": "ipython3",
      "version": "3.8.13"
    },
    "vscode": {
      "interpreter": {
        "hash": "892d461b55a6ce994a56bafd67ae2f3489d9f23234c096cfb51dfe498c166e4b"
      }
    }
  },
  "nbformat": 4,
  "nbformat_minor": 0
}